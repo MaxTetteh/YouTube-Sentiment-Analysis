{
 "cells": [
  {
   "cell_type": "code",
   "execution_count": null,
   "id": "dd0c69f4",
   "metadata": {},
   "outputs": [],
   "source": []
  },
  {
   "cell_type": "code",
   "execution_count": 4,
   "id": "7799c7b7",
   "metadata": {},
   "outputs": [],
   "source": [
    "import numpy as np\n",
    "import pandas as pd\n",
    "import os"
   ]
  },
  {
   "cell_type": "code",
   "execution_count": 5,
   "id": "f8a046ba",
   "metadata": {},
   "outputs": [],
   "source": [
    "import gensim\n",
    "#import pyLDAvis.gensim\n",
    "import pyLDAvis.gensim_models"
   ]
  },
  {
   "cell_type": "code",
   "execution_count": 6,
   "id": "62127bb2",
   "metadata": {},
   "outputs": [
    {
     "name": "stderr",
     "output_type": "stream",
     "text": [
      "[nltk_data] Downloading package wordnet to\n",
      "[nltk_data]     C:\\Users\\tette\\AppData\\Roaming\\nltk_data...\n",
      "[nltk_data]   Package wordnet is already up-to-date!\n"
     ]
    },
    {
     "data": {
      "text/plain": [
       "True"
      ]
     },
     "execution_count": 6,
     "metadata": {},
     "output_type": "execute_result"
    }
   ],
   "source": [
    "import nltk\n",
    "#nltk.download('stopwords')\n",
    "nltk.download('wordnet')"
   ]
  },
  {
   "cell_type": "code",
   "execution_count": 7,
   "id": "bec13fe7",
   "metadata": {},
   "outputs": [],
   "source": [
    "import gensim.corpora as corpora\n",
    "from gensim.utils import simple_preprocess\n",
    "from gensim.models import TfidfModel\n",
    "from gensim.models import CoherenceModel\n",
    "from nltk.corpus import stopwords"
   ]
  },
  {
   "cell_type": "code",
   "execution_count": 8,
   "id": "e6fcd593",
   "metadata": {},
   "outputs": [],
   "source": [
    "import re\n",
    "import string"
   ]
  },
  {
   "cell_type": "code",
   "execution_count": 9,
   "id": "7cba6ab7",
   "metadata": {},
   "outputs": [],
   "source": [
    "import pyLDAvis\n",
    "#import pyLDAvis.gensim\n",
    "import pyLDAvis.gensim_models\n",
    "import seaborn as sns\n",
    "import matplotlib as plt"
   ]
  },
  {
   "cell_type": "code",
   "execution_count": 10,
   "id": "164ea28a",
   "metadata": {},
   "outputs": [
    {
     "name": "stderr",
     "output_type": "stream",
     "text": [
      "E:\\Anaconda\\lib\\site-packages\\IPython\\core\\interactiveshell.py:3444: DtypeWarning: Columns (2,3) have mixed types.Specify dtype option on import or set low_memory=False.\n",
      "  exec(code_obj, self.user_global_ns, self.user_ns)\n"
     ]
    }
   ],
   "source": [
    "df = pd.read_csv('UScomments.csv', on_bad_lines='skip')"
   ]
  },
  {
   "cell_type": "code",
   "execution_count": 11,
   "id": "f12c2cb5",
   "metadata": {},
   "outputs": [
    {
     "data": {
      "text/html": [
       "<div>\n",
       "<style scoped>\n",
       "    .dataframe tbody tr th:only-of-type {\n",
       "        vertical-align: middle;\n",
       "    }\n",
       "\n",
       "    .dataframe tbody tr th {\n",
       "        vertical-align: top;\n",
       "    }\n",
       "\n",
       "    .dataframe thead th {\n",
       "        text-align: right;\n",
       "    }\n",
       "</style>\n",
       "<table border=\"1\" class=\"dataframe\">\n",
       "  <thead>\n",
       "    <tr style=\"text-align: right;\">\n",
       "      <th></th>\n",
       "      <th>video_id</th>\n",
       "      <th>comment_text</th>\n",
       "      <th>likes</th>\n",
       "      <th>replies</th>\n",
       "    </tr>\n",
       "  </thead>\n",
       "  <tbody>\n",
       "    <tr>\n",
       "      <th>0</th>\n",
       "      <td>XpVt6Z1Gjjo</td>\n",
       "      <td>Logan Paul it's yo big day ‼️‼️‼️</td>\n",
       "      <td>4</td>\n",
       "      <td>0</td>\n",
       "    </tr>\n",
       "    <tr>\n",
       "      <th>1</th>\n",
       "      <td>XpVt6Z1Gjjo</td>\n",
       "      <td>I've been following you from the start of your...</td>\n",
       "      <td>3</td>\n",
       "      <td>0</td>\n",
       "    </tr>\n",
       "    <tr>\n",
       "      <th>2</th>\n",
       "      <td>XpVt6Z1Gjjo</td>\n",
       "      <td>Say hi to Kong and maverick for me</td>\n",
       "      <td>3</td>\n",
       "      <td>0</td>\n",
       "    </tr>\n",
       "    <tr>\n",
       "      <th>3</th>\n",
       "      <td>XpVt6Z1Gjjo</td>\n",
       "      <td>MY FAN . attendance</td>\n",
       "      <td>3</td>\n",
       "      <td>0</td>\n",
       "    </tr>\n",
       "    <tr>\n",
       "      <th>4</th>\n",
       "      <td>XpVt6Z1Gjjo</td>\n",
       "      <td>trending 😉</td>\n",
       "      <td>3</td>\n",
       "      <td>0</td>\n",
       "    </tr>\n",
       "  </tbody>\n",
       "</table>\n",
       "</div>"
      ],
      "text/plain": [
       "      video_id                                       comment_text likes  \\\n",
       "0  XpVt6Z1Gjjo                  Logan Paul it's yo big day ‼️‼️‼️     4   \n",
       "1  XpVt6Z1Gjjo  I've been following you from the start of your...     3   \n",
       "2  XpVt6Z1Gjjo                 Say hi to Kong and maverick for me     3   \n",
       "3  XpVt6Z1Gjjo                                MY FAN . attendance     3   \n",
       "4  XpVt6Z1Gjjo                                         trending 😉     3   \n",
       "\n",
       "  replies  \n",
       "0       0  \n",
       "1       0  \n",
       "2       0  \n",
       "3       0  \n",
       "4       0  "
      ]
     },
     "execution_count": 11,
     "metadata": {},
     "output_type": "execute_result"
    }
   ],
   "source": [
    "df.head()"
   ]
  },
  {
   "cell_type": "code",
   "execution_count": 12,
   "id": "f25e83c7",
   "metadata": {},
   "outputs": [],
   "source": [
    "partial=df[df['video_id']=='XpVt6Z1Gjjo'].copy()"
   ]
  },
  {
   "cell_type": "code",
   "execution_count": 13,
   "id": "3e0cd72b",
   "metadata": {},
   "outputs": [
    {
     "name": "stdout",
     "output_type": "stream",
     "text": [
      "The history saving thread hit an unexpected error (OperationalError('database is locked')).History will not be written to the database.           video_id                                       comment_text likes  \\\n",
      "12      XpVt6Z1Gjjo  Honestly Evan is so annoying. Like its not fun...     0   \n",
      "26      XpVt6Z1Gjjo            Evan was being such a dick on this vlog     0   \n",
      "28      XpVt6Z1Gjjo  Evan is a horrible human being he also looks s...     0   \n",
      "35      XpVt6Z1Gjjo  Evan is being a douch Logans getting pissed, L...     0   \n",
      "53      XpVt6Z1Gjjo  Evan is just taking ur money for granted cause...     0   \n",
      "59      XpVt6Z1Gjjo            Evan lowkey is starting to piss me off!     0   \n",
      "72      XpVt6Z1Gjjo                       😂😂😂😂😭 I love Evan so much!!!     2   \n",
      "17044   XpVt6Z1Gjjo  tell evan to not be a dick on a vlog plz it wi...     0   \n",
      "17057   XpVt6Z1Gjjo  Anyone know that song that was played when Log...     0   \n",
      "17091   XpVt6Z1Gjjo  Logan: Do ya wanna do you're thing now?\\nEvan:...     2   \n",
      "17113   XpVt6Z1Gjjo                             Damn Evan is soo funny     0   \n",
      "17118   XpVt6Z1Gjjo  Driving with Evan and these dickheads. Dwarf M...     0   \n",
      "35594   XpVt6Z1Gjjo                    driving with Evan gives me life     0   \n",
      "35598   XpVt6Z1Gjjo  Serious question how is Evan driving? He is hi...     0   \n",
      "35639   XpVt6Z1Gjjo  My favorite is driving with Evan! It's hysteri...     0   \n",
      "35650   XpVt6Z1Gjjo                                       Evan abuse 😂     0   \n",
      "43505   XpVt6Z1Gjjo                    driving with Evan gives me life     0   \n",
      "43509   XpVt6Z1Gjjo  Serious question how is Evan driving? He is hi...     0   \n",
      "43550   XpVt6Z1Gjjo  My favorite is driving with Evan! It's hysteri...     0   \n",
      "43561   XpVt6Z1Gjjo                                       Evan abuse 😂     0   \n",
      "59418   XpVt6Z1Gjjo                               Why did Evan do this     0   \n",
      "59422   XpVt6Z1Gjjo                               Where is Evan's dog?     0   \n",
      "59434   XpVt6Z1Gjjo  Guess who's driving......FUUUU driving with Ev...     0   \n",
      "59443   XpVt6Z1Gjjo                        is Evan on his doarf period     1   \n",
      "59449   XpVt6Z1Gjjo                    omg. Evan is just too adorable.     0   \n",
      "59461   XpVt6Z1Gjjo                     Lol.....Evan...this 1 was good     0   \n",
      "59466   XpVt6Z1Gjjo         Driving with evan merch????!?!!!!!?!????!?     0   \n",
      "59470   XpVt6Z1Gjjo                                     OMG LOVE EVAN!     0   \n",
      "59478   XpVt6Z1Gjjo                        Evan is muther fuckin Funny     2   \n",
      "79860   XpVt6Z1Gjjo  When it's Evans big day you should do the same...     0   \n",
      "79862   XpVt6Z1Gjjo  Logan: I wanna open this box if it's the last ...     0   \n",
      "79870   XpVt6Z1Gjjo                Don't let Evan use a axe ever again     0   \n",
      "79878   XpVt6Z1Gjjo  YASSS logan 11mill piss  of Evan \\n\\n\\n\\nNO ha...     1   \n",
      "79897   XpVt6Z1Gjjo                                    I hate evan now     0   \n",
      "79905   XpVt6Z1Gjjo                              WHY EVAN WHYYYYYYYYYY     0   \n",
      "79908   XpVt6Z1Gjjo                                  Driving with evan     0   \n",
      "79913   XpVt6Z1Gjjo  this was the best driving with evan oh and als...     0   \n",
      "79921   XpVt6Z1Gjjo                          Feel like Evan is jealous     0   \n",
      "100477  XpVt6Z1Gjjo  I'm sorry but am I the only one who wanted to ...     0   \n",
      "100489  XpVt6Z1Gjjo  Today's driving with Evan made me laugh so har...     0   \n",
      "100491  XpVt6Z1Gjjo  He should have said I been down so long Evan l...     0   \n",
      "100495  XpVt6Z1Gjjo                The music for Parking with Evan 😂😂😂     0   \n",
      "100510  XpVt6Z1Gjjo                    Lol evan and logan are so funny     0   \n",
      "100520  XpVt6Z1Gjjo                            Evans fingers are shuby     0   \n",
      "100532  XpVt6Z1Gjjo                               Tell Evan I love him     0   \n",
      "100547  XpVt6Z1Gjjo             Parking with Evan with these dickheads     1   \n",
      "100562  XpVt6Z1Gjjo                                     Evan you bitch     0   \n",
      "121582  XpVt6Z1Gjjo  Poor Evan when Logan is giving his thank yous ...     0   \n",
      "121615  XpVt6Z1Gjjo  this is all fixed be because behind the door y...     0   \n",
      "121616  XpVt6Z1Gjjo  anybody else notice he changed the driving wit...     0   \n",
      "121624  XpVt6Z1Gjjo                The music for Parking with Evan 😂😂😂     0   \n",
      "121640  XpVt6Z1Gjjo  I'm sorry but am I the only one who wanted to ...     0   \n",
      "121652  XpVt6Z1Gjjo  Today's driving with Evan made me laugh so har...     0   \n",
      "121654  XpVt6Z1Gjjo  He should have said I been down so long Evan l...     0   \n",
      "121656  XpVt6Z1Gjjo                            Evans fingers are shuby     0   \n",
      "\n",
      "       replies  \n",
      "12           0  \n",
      "26           0  \n",
      "28           0  \n",
      "35           0  \n",
      "53           0  \n",
      "59           0  \n",
      "72           0  \n",
      "17044        0  \n",
      "17057        0  \n",
      "17091        0  \n",
      "17113        0  \n",
      "17118        0  \n",
      "35594        0  \n",
      "35598        0  \n",
      "35639        0  \n",
      "35650        0  \n",
      "43505        0  \n",
      "43509        0  \n",
      "43550        0  \n",
      "43561        0  \n",
      "59418        0  \n",
      "59422        0  \n",
      "59434        0  \n",
      "59443        0  \n",
      "59449        0  \n",
      "59461        0  \n",
      "59466        0  \n",
      "59470        0  \n",
      "59478        0  \n",
      "79860        0  \n",
      "79862        0  \n",
      "79870        0  \n",
      "79878        0  \n",
      "79897        0  \n",
      "79905        0  \n",
      "79908        0  \n",
      "79913        0  \n",
      "79921        0  \n",
      "100477       0  \n",
      "100489       0  \n",
      "100491       0  \n",
      "100495       0  \n",
      "100510       0  \n",
      "100520       0  \n",
      "100532       0  \n",
      "100547       0  \n",
      "100562       0  \n",
      "121582       0  \n",
      "121615       0  \n",
      "121616       0  \n",
      "121624       0  \n",
      "121640       0  \n",
      "121652       0  \n",
      "121654       0  \n",
      "121656       0  \n",
      "\n"
     ]
    }
   ],
   "source": [
    "#partial=df.iloc[0:1000,]\n",
    "#options = ['logan']\n",
    "#checker = df[df['comment_text'].isin(options)]\n",
    "#print(checker)\n",
    "pokemon = partial[partial['comment_text'].str.contains(\"Evan\", case=False)]\n",
    "print(pokemon)\n",
    "#rslt_df = dataframe[dataframe['Stream'].isin(options)]"
   ]
  },
  {
   "cell_type": "code",
   "execution_count": 14,
   "id": "0ffa8931",
   "metadata": {},
   "outputs": [],
   "source": [
    "#evan.head()"
   ]
  },
  {
   "cell_type": "code",
   "execution_count": 15,
   "id": "16045af2",
   "metadata": {},
   "outputs": [
    {
     "data": {
      "text/plain": [
       "video_id                                              8wNr-NQImFg\n",
       "comment_text    4:30 the universe itself is comparable to the ...\n",
       "likes                                                           0\n",
       "replies                                                         0\n",
       "Name: 500, dtype: object"
      ]
     },
     "execution_count": 15,
     "metadata": {},
     "output_type": "execute_result"
    }
   ],
   "source": [
    "df.iloc[500,:]"
   ]
  },
  {
   "cell_type": "code",
   "execution_count": 16,
   "id": "f95fbb07",
   "metadata": {},
   "outputs": [
    {
     "data": {
      "text/html": [
       "<div>\n",
       "<style scoped>\n",
       "    .dataframe tbody tr th:only-of-type {\n",
       "        vertical-align: middle;\n",
       "    }\n",
       "\n",
       "    .dataframe tbody tr th {\n",
       "        vertical-align: top;\n",
       "    }\n",
       "\n",
       "    .dataframe thead th {\n",
       "        text-align: right;\n",
       "    }\n",
       "</style>\n",
       "<table border=\"1\" class=\"dataframe\">\n",
       "  <thead>\n",
       "    <tr style=\"text-align: right;\">\n",
       "      <th></th>\n",
       "      <th>video_id</th>\n",
       "      <th>comment_text</th>\n",
       "      <th>likes</th>\n",
       "      <th>replies</th>\n",
       "    </tr>\n",
       "  </thead>\n",
       "  <tbody>\n",
       "    <tr>\n",
       "      <th>121660</th>\n",
       "      <td>XpVt6Z1Gjjo</td>\n",
       "      <td>Aw Logan</td>\n",
       "      <td>0</td>\n",
       "      <td>0</td>\n",
       "    </tr>\n",
       "    <tr>\n",
       "      <th>121661</th>\n",
       "      <td>XpVt6Z1Gjjo</td>\n",
       "      <td>What kind of an asshole fakes color blindness</td>\n",
       "      <td>0</td>\n",
       "      <td>0</td>\n",
       "    </tr>\n",
       "    <tr>\n",
       "      <th>121662</th>\n",
       "      <td>XpVt6Z1Gjjo</td>\n",
       "      <td>Oh hi mark.</td>\n",
       "      <td>2</td>\n",
       "      <td>0</td>\n",
       "    </tr>\n",
       "    <tr>\n",
       "      <th>121663</th>\n",
       "      <td>XpVt6Z1Gjjo</td>\n",
       "      <td>O M G !😂💚💚💚🔥🔥🔥🔥</td>\n",
       "      <td>3</td>\n",
       "      <td>0</td>\n",
       "    </tr>\n",
       "    <tr>\n",
       "      <th>121664</th>\n",
       "      <td>XpVt6Z1Gjjo</td>\n",
       "      <td>at10 30 on the vid he put the lock back on the...</td>\n",
       "      <td>0</td>\n",
       "      <td>1</td>\n",
       "    </tr>\n",
       "  </tbody>\n",
       "</table>\n",
       "</div>"
      ],
      "text/plain": [
       "           video_id                                       comment_text likes  \\\n",
       "121660  XpVt6Z1Gjjo                                           Aw Logan     0   \n",
       "121661  XpVt6Z1Gjjo      What kind of an asshole fakes color blindness     0   \n",
       "121662  XpVt6Z1Gjjo                                        Oh hi mark.     2   \n",
       "121663  XpVt6Z1Gjjo                                    O M G !😂💚💚💚🔥🔥🔥🔥     3   \n",
       "121664  XpVt6Z1Gjjo  at10 30 on the vid he put the lock back on the...     0   \n",
       "\n",
       "       replies  \n",
       "121660       0  \n",
       "121661       0  \n",
       "121662       0  \n",
       "121663       0  \n",
       "121664       1  "
      ]
     },
     "execution_count": 16,
     "metadata": {},
     "output_type": "execute_result"
    }
   ],
   "source": [
    "partial.tail()"
   ]
  },
  {
   "cell_type": "code",
   "execution_count": 17,
   "id": "0651d79d",
   "metadata": {},
   "outputs": [
    {
     "name": "stdout",
     "output_type": "stream",
     "text": [
      "<class 'pandas.core.frame.DataFrame'>\n",
      "Int64Index: 800 entries, 0 to 121664\n",
      "Data columns (total 4 columns):\n",
      " #   Column        Non-Null Count  Dtype \n",
      "---  ------        --------------  ----- \n",
      " 0   video_id      800 non-null    object\n",
      " 1   comment_text  800 non-null    object\n",
      " 2   likes         800 non-null    object\n",
      " 3   replies       800 non-null    object\n",
      "dtypes: object(4)\n",
      "memory usage: 31.2+ KB\n"
     ]
    }
   ],
   "source": [
    "partial.info()"
   ]
  },
  {
   "cell_type": "code",
   "execution_count": 18,
   "id": "67dc7f03",
   "metadata": {},
   "outputs": [],
   "source": [
    "#data_words = partial_df.tolist()"
   ]
  },
  {
   "cell_type": "code",
   "execution_count": 19,
   "id": "30240751",
   "metadata": {},
   "outputs": [
    {
     "name": "stderr",
     "output_type": "stream",
     "text": [
      "<>:1: DeprecationWarning: invalid escape sequence \\d\n",
      "<>:1: DeprecationWarning: invalid escape sequence \\d\n",
      "C:\\Users\\tette\\AppData\\Local\\Temp/ipykernel_2076/1612080091.py:1: DeprecationWarning: invalid escape sequence \\d\n",
      "  '''\n"
     ]
    },
    {
     "data": {
      "text/plain": [
       "'\\n\\n# Change to lowercase\\ndata[\\'Title\\'] = data[\\'Title\\'].map(lambda x: x.lower())\\ndata[\\'Description\\'] = data[\\'Description\\'].map(lambda x: x.lower())\\n\\n# Remove numbers\\ndata[\\'Title\\'] = data[\\'Title\\'].map(lambda x: re.sub(r\\'\\\\d+\\', \\'\\', x))\\ndata[\\'Description\\'] = data[\\'Description\\'].map(lambda x: re.sub(r\\'\\\\d+\\', \\'\\', x))\\n\\n# Remove Punctuation\\ndata[\\'Title\\']  = data[\\'Title\\'].map(lambda x: x.translate(x.maketrans(\\'\\', \\'\\', string.punctuation)))\\ndata[\\'Description\\']  = data[\\'Description\\'].map(lambda x: x.translate(x.maketrans(\\'\\', \\'\\', string.punctuation)))\\n\\n# Remove white spaces\\ndata[\\'Title\\'] = data[\\'Title\\'].map(lambda x: x.strip())\\ndata[\\'Description\\'] = data[\\'Description\\'].map(lambda x: x.strip())\\n\\n# Tokenize into words\\ndata[\\'Title\\'] = data[\\'Title\\'].map(lambda x: word_tokenize(x))\\ndata[\\'Description\\'] = data[\\'Description\\'].map(lambda x: word_tokenize(x))\\n \\n# Remove non alphabetic tokens\\ndata[\\'Title\\'] = data[\\'Title\\'].map(lambda x: [word for word in x if word.isalpha()])\\ndata[\\'Description\\'] = data[\\'Description\\'].map(lambda x: [word for word in x if word.isalpha()])\\n# filter out stop words\\nstop_words = set(stopwords.words(\\'english\\'))\\ndata[\\'Title\\'] = data[\\'Title\\'].map(lambda x: [w for w in x if not w in stop_words])\\ndata[\\'Description\\'] = data[\\'Description\\'].map(lambda x: [w for w in x if not w in stop_words])\\n\\n# Word Lemmatization\\nlem = WordNetLemmatizer()\\ndata[\\'Title\\'] = data[\\'Title\\'].map(lambda x: [lem.lemmatize(word,\"v\") for word in x])\\ndata[\\'Description\\'] = data[\\'Description\\'].map(lambda x: [lem.lemmatize(word,\"v\") for word in x])\\n\\n# Turn lists back to string\\ndata[\\'Title\\'] = data[\\'Title\\'].map(lambda x: \\' \\'.join(x))\\ndata[\\'Description\\'] = data[\\'Description\\'].map(lambda x: \\' \\'.join(x))\\n'"
      ]
     },
     "execution_count": 19,
     "metadata": {},
     "output_type": "execute_result"
    }
   ],
   "source": [
    "'''\n",
    "\n",
    "# Change to lowercase\n",
    "data['Title'] = data['Title'].map(lambda x: x.lower())\n",
    "data['Description'] = data['Description'].map(lambda x: x.lower())\n",
    "\n",
    "# Remove numbers\n",
    "data['Title'] = data['Title'].map(lambda x: re.sub(r'\\d+', '', x))\n",
    "data['Description'] = data['Description'].map(lambda x: re.sub(r'\\d+', '', x))\n",
    "\n",
    "# Remove Punctuation\n",
    "data['Title']  = data['Title'].map(lambda x: x.translate(x.maketrans('', '', string.punctuation)))\n",
    "data['Description']  = data['Description'].map(lambda x: x.translate(x.maketrans('', '', string.punctuation)))\n",
    "\n",
    "# Remove white spaces\n",
    "data['Title'] = data['Title'].map(lambda x: x.strip())\n",
    "data['Description'] = data['Description'].map(lambda x: x.strip())\n",
    "\n",
    "# Tokenize into words\n",
    "data['Title'] = data['Title'].map(lambda x: word_tokenize(x))\n",
    "data['Description'] = data['Description'].map(lambda x: word_tokenize(x))\n",
    " \n",
    "# Remove non alphabetic tokens\n",
    "data['Title'] = data['Title'].map(lambda x: [word for word in x if word.isalpha()])\n",
    "data['Description'] = data['Description'].map(lambda x: [word for word in x if word.isalpha()])\n",
    "# filter out stop words\n",
    "stop_words = set(stopwords.words('english'))\n",
    "data['Title'] = data['Title'].map(lambda x: [w for w in x if not w in stop_words])\n",
    "data['Description'] = data['Description'].map(lambda x: [w for w in x if not w in stop_words])\n",
    "\n",
    "# Word Lemmatization\n",
    "lem = WordNetLemmatizer()\n",
    "data['Title'] = data['Title'].map(lambda x: [lem.lemmatize(word,\"v\") for word in x])\n",
    "data['Description'] = data['Description'].map(lambda x: [lem.lemmatize(word,\"v\") for word in x])\n",
    "\n",
    "# Turn lists back to string\n",
    "data['Title'] = data['Title'].map(lambda x: ' '.join(x))\n",
    "data['Description'] = data['Description'].map(lambda x: ' '.join(x))\n",
    "'''"
   ]
  },
  {
   "cell_type": "code",
   "execution_count": 20,
   "id": "ec300bc7",
   "metadata": {},
   "outputs": [],
   "source": [
    "#partial_df['comment_text'] = partial_df['comment_text'].str.replace(\"[^a-zA-Z#]\", \" \")\n",
    "#Removing Punctuations, Numbers and Special Characters.\n",
    "#partial_df = partial_df.str.replace(\"[^a-zA-Z#]\", \" \")\n",
    "#partial_df[0]"
   ]
  },
  {
   "cell_type": "code",
   "execution_count": 21,
   "id": "6c1fa8e1",
   "metadata": {},
   "outputs": [],
   "source": [
    "#partial_df= partial_df.apply(lambda x: ' '.join([w for w in x.split() if len(w)>3]))\n"
   ]
  },
  {
   "cell_type": "code",
   "execution_count": 22,
   "id": "91a671a0",
   "metadata": {},
   "outputs": [],
   "source": [
    "#partial_df = partial_df.apply(lambda x:x.lower())"
   ]
  },
  {
   "cell_type": "code",
   "execution_count": 23,
   "id": "e617b276",
   "metadata": {},
   "outputs": [],
   "source": [
    "partial.dropna(axis = 0, how ='any',inplace=True) "
   ]
  },
  {
   "cell_type": "code",
   "execution_count": null,
   "id": "d10cbf9c",
   "metadata": {},
   "outputs": [],
   "source": []
  },
  {
   "cell_type": "code",
   "execution_count": 24,
   "id": "487e07eb",
   "metadata": {},
   "outputs": [],
   "source": [
    "def clean_text(text): \n",
    "    delete_dict = {sp_character: '' for sp_character in string.punctuation} \n",
    "    delete_dict[' '] = ' ' \n",
    "    table = str.maketrans(delete_dict)\n",
    "    text1 = text.translate(table)\n",
    "    #print('cleaned:'+text1)\n",
    "    textArr= text1.split()\n",
    "    text2 = ' '.join([w for w in textArr if (not w.isdigit() and  (not w.isdigit() and len(w)>3))]) \n",
    "    \n",
    "    return text2.lower()"
   ]
  },
  {
   "cell_type": "code",
   "execution_count": 25,
   "id": "f26797e7",
   "metadata": {},
   "outputs": [],
   "source": [
    "import nltk"
   ]
  },
  {
   "cell_type": "code",
   "execution_count": 26,
   "id": "9947478b",
   "metadata": {},
   "outputs": [],
   "source": [
    "partial.dropna(axis = 0, how ='any',inplace=True) \n",
    "partial['comment_text'] = partial['comment_text'].apply(clean_text)\n",
    "#review_data['Text'] = review_data['Text'].apply(clean_text)\n"
   ]
  },
  {
   "cell_type": "code",
   "execution_count": 27,
   "id": "e17c2cee",
   "metadata": {},
   "outputs": [
    {
     "data": {
      "text/plain": [
       "0                                         logan paul ‼️‼️‼️\n",
       "1         been following from start your vine channel ha...\n",
       "2                                             kong maverick\n",
       "3                                                attendance\n",
       "4                                                  trending\n",
       "                                ...                        \n",
       "121660                                                logan\n",
       "121661              what kind asshole fakes color blindness\n",
       "121662                                                 mark\n",
       "121663                                             😂💚💚💚🔥🔥🔥🔥\n",
       "121664                                  at10 lock back case\n",
       "Name: comment_text, Length: 800, dtype: object"
      ]
     },
     "execution_count": 27,
     "metadata": {},
     "output_type": "execute_result"
    }
   ],
   "source": [
    "partial['comment_text']"
   ]
  },
  {
   "cell_type": "code",
   "execution_count": 28,
   "id": "fb2f96e7",
   "metadata": {},
   "outputs": [],
   "source": [
    "from nltk.corpus import stopwords\n",
    "stop_words = stopwords.words('english')\n",
    "# function to remove stopwords\n",
    "def remove_stopwords(text):\n",
    "    textArr = text.split(' ')\n",
    "    rem_text = \" \".join([i for i in textArr if i not in stop_words])\n",
    "    return rem_text\n"
   ]
  },
  {
   "cell_type": "code",
   "execution_count": 29,
   "id": "7069b693",
   "metadata": {},
   "outputs": [
    {
     "data": {
      "text/html": [
       "<div>\n",
       "<style scoped>\n",
       "    .dataframe tbody tr th:only-of-type {\n",
       "        vertical-align: middle;\n",
       "    }\n",
       "\n",
       "    .dataframe tbody tr th {\n",
       "        vertical-align: top;\n",
       "    }\n",
       "\n",
       "    .dataframe thead th {\n",
       "        text-align: right;\n",
       "    }\n",
       "</style>\n",
       "<table border=\"1\" class=\"dataframe\">\n",
       "  <thead>\n",
       "    <tr style=\"text-align: right;\">\n",
       "      <th></th>\n",
       "      <th>video_id</th>\n",
       "      <th>comment_text</th>\n",
       "      <th>likes</th>\n",
       "      <th>replies</th>\n",
       "    </tr>\n",
       "  </thead>\n",
       "  <tbody>\n",
       "    <tr>\n",
       "      <th>20</th>\n",
       "      <td>XpVt6Z1Gjjo</td>\n",
       "      <td>honey nooo cant believe almost mili year damnn</td>\n",
       "      <td>0</td>\n",
       "      <td>0</td>\n",
       "    </tr>\n",
       "    <tr>\n",
       "      <th>21</th>\n",
       "      <td>XpVt6Z1Gjjo</td>\n",
       "      <td>jake paul fastest growing channel million that...</td>\n",
       "      <td>1</td>\n",
       "      <td>0</td>\n",
       "    </tr>\n",
       "    <tr>\n",
       "      <th>22</th>\n",
       "      <td>XpVt6Z1Gjjo</td>\n",
       "      <td>pewdiepie accidentally played song with words ...</td>\n",
       "      <td>0</td>\n",
       "      <td>0</td>\n",
       "    </tr>\n",
       "    <tr>\n",
       "      <th>23</th>\n",
       "      <td>XpVt6Z1Gjjo</td>\n",
       "      <td>should prank that broke your play puttun</td>\n",
       "      <td>0</td>\n",
       "      <td>0</td>\n",
       "    </tr>\n",
       "    <tr>\n",
       "      <th>24</th>\n",
       "      <td>XpVt6Z1Gjjo</td>\n",
       "      <td>love logan jake much thay amazing look them mu...</td>\n",
       "      <td>1</td>\n",
       "      <td>0</td>\n",
       "    </tr>\n",
       "    <tr>\n",
       "      <th>25</th>\n",
       "      <td>XpVt6Z1Gjjo</td>\n",
       "      <td>trending lets</td>\n",
       "      <td>0</td>\n",
       "      <td>0</td>\n",
       "    </tr>\n",
       "    <tr>\n",
       "      <th>26</th>\n",
       "      <td>XpVt6Z1Gjjo</td>\n",
       "      <td>evan being such dick this vlog</td>\n",
       "      <td>0</td>\n",
       "      <td>0</td>\n",
       "    </tr>\n",
       "    <tr>\n",
       "      <th>27</th>\n",
       "      <td>XpVt6Z1Gjjo</td>\n",
       "      <td>allot diss likes comments lets diss like this ...</td>\n",
       "      <td>0</td>\n",
       "      <td>0</td>\n",
       "    </tr>\n",
       "    <tr>\n",
       "      <th>28</th>\n",
       "      <td>XpVt6Z1Gjjo</td>\n",
       "      <td>evan horrible human being also looks jealous w...</td>\n",
       "      <td>0</td>\n",
       "      <td>0</td>\n",
       "    </tr>\n",
       "    <tr>\n",
       "      <th>29</th>\n",
       "      <td>XpVt6Z1Gjjo</td>\n",
       "      <td>love much love meet live israel really inspire...</td>\n",
       "      <td>0</td>\n",
       "      <td>0</td>\n",
       "    </tr>\n",
       "    <tr>\n",
       "      <th>30</th>\n",
       "      <td>XpVt6Z1Gjjo</td>\n",
       "      <td>watch clicking here peoples entertaining</td>\n",
       "      <td>0</td>\n",
       "      <td>0</td>\n",
       "    </tr>\n",
       "    <tr>\n",
       "      <th>31</th>\n",
       "      <td>XpVt6Z1Gjjo</td>\n",
       "      <td>dying when threw midget ground lmao</td>\n",
       "      <td>0</td>\n",
       "      <td>0</td>\n",
       "    </tr>\n",
       "    <tr>\n",
       "      <th>32</th>\n",
       "      <td>XpVt6Z1Gjjo</td>\n",
       "      <td>technically logan jake started channel</td>\n",
       "      <td>0</td>\n",
       "      <td>0</td>\n",
       "    </tr>\n",
       "    <tr>\n",
       "      <th>33</th>\n",
       "      <td>XpVt6Z1Gjjo</td>\n",
       "      <td>logans life from england</td>\n",
       "      <td>0</td>\n",
       "      <td>0</td>\n",
       "    </tr>\n",
       "    <tr>\n",
       "      <th>34</th>\n",
       "      <td>XpVt6Z1Gjjo</td>\n",
       "      <td>gotta love youtube giving morons ability earn ...</td>\n",
       "      <td>0</td>\n",
       "      <td>0</td>\n",
       "    </tr>\n",
       "  </tbody>\n",
       "</table>\n",
       "</div>"
      ],
      "text/plain": [
       "       video_id                                       comment_text likes  \\\n",
       "20  XpVt6Z1Gjjo     honey nooo cant believe almost mili year damnn     0   \n",
       "21  XpVt6Z1Gjjo  jake paul fastest growing channel million that...     1   \n",
       "22  XpVt6Z1Gjjo  pewdiepie accidentally played song with words ...     0   \n",
       "23  XpVt6Z1Gjjo           should prank that broke your play puttun     0   \n",
       "24  XpVt6Z1Gjjo  love logan jake much thay amazing look them mu...     1   \n",
       "25  XpVt6Z1Gjjo                                      trending lets     0   \n",
       "26  XpVt6Z1Gjjo                     evan being such dick this vlog     0   \n",
       "27  XpVt6Z1Gjjo  allot diss likes comments lets diss like this ...     0   \n",
       "28  XpVt6Z1Gjjo  evan horrible human being also looks jealous w...     0   \n",
       "29  XpVt6Z1Gjjo  love much love meet live israel really inspire...     0   \n",
       "30  XpVt6Z1Gjjo           watch clicking here peoples entertaining     0   \n",
       "31  XpVt6Z1Gjjo                dying when threw midget ground lmao     0   \n",
       "32  XpVt6Z1Gjjo             technically logan jake started channel     0   \n",
       "33  XpVt6Z1Gjjo                           logans life from england     0   \n",
       "34  XpVt6Z1Gjjo  gotta love youtube giving morons ability earn ...     0   \n",
       "\n",
       "   replies  \n",
       "20       0  \n",
       "21       0  \n",
       "22       0  \n",
       "23       0  \n",
       "24       0  \n",
       "25       0  \n",
       "26       0  \n",
       "27       0  \n",
       "28       0  \n",
       "29       0  \n",
       "30       0  \n",
       "31       0  \n",
       "32       0  \n",
       "33       0  \n",
       "34       0  "
      ]
     },
     "execution_count": 29,
     "metadata": {},
     "output_type": "execute_result"
    }
   ],
   "source": [
    "partial.iloc[20:35,:]"
   ]
  },
  {
   "cell_type": "code",
   "execution_count": 30,
   "id": "938e0e9b",
   "metadata": {},
   "outputs": [],
   "source": [
    "# remove stopwords from the text\n",
    "partial['comment_text']=partial['comment_text'].apply(remove_stopwords)"
   ]
  },
  {
   "cell_type": "code",
   "execution_count": 31,
   "id": "7ab166d6",
   "metadata": {},
   "outputs": [
    {
     "data": {
      "text/plain": [
       "0                               logan paul ‼️‼️‼️\n",
       "1         following start vine channel seen vlogs\n",
       "2                                   kong maverick\n",
       "3                                      attendance\n",
       "4                                        trending\n",
       "                           ...                   \n",
       "121660                                      logan\n",
       "121661         kind asshole fakes color blindness\n",
       "121662                                       mark\n",
       "121663                                   😂💚💚💚🔥🔥🔥🔥\n",
       "121664                        at10 lock back case\n",
       "Name: comment_text, Length: 800, dtype: object"
      ]
     },
     "execution_count": 31,
     "metadata": {},
     "output_type": "execute_result"
    }
   ],
   "source": [
    "partial['comment_text']"
   ]
  },
  {
   "cell_type": "code",
   "execution_count": 32,
   "id": "bb571e8f",
   "metadata": {},
   "outputs": [],
   "source": [
    "import spacy"
   ]
  },
  {
   "cell_type": "code",
   "execution_count": 33,
   "id": "125ff3fc",
   "metadata": {},
   "outputs": [],
   "source": [
    "nlp = spacy.load('en_core_web_md', disable=['parser', 'ner'])\n",
    "\n",
    "def lemmatization(texts,allowed_postags=['NOUN', 'ADJ','VERB','ADV']): \n",
    "    output = []\n",
    "    for sent in texts:\n",
    "        doc = nlp(sent) \n",
    "        output.append([token.lemma_ for token in doc if token.pos_ in allowed_postags ])\n",
    "    return output"
   ]
  },
  {
   "cell_type": "code",
   "execution_count": 34,
   "id": "8fd0faef",
   "metadata": {},
   "outputs": [
    {
     "name": "stdout",
     "output_type": "stream",
     "text": [
      "following start vine channel seen vlogs\n",
      "['follow', 'start', 'vine', 'channel', 'see', 'vlog']\n"
     ]
    }
   ],
   "source": [
    "text_list=partial['comment_text'].tolist()\n",
    "print(text_list[1])\n",
    "tokenized_comments = lemmatization(text_list)\n",
    "print(tokenized_comments[1])"
   ]
  },
  {
   "cell_type": "code",
   "execution_count": 35,
   "id": "248f3559",
   "metadata": {},
   "outputs": [],
   "source": [
    "#partial['tf_comments']=tokenized_comments"
   ]
  },
  {
   "cell_type": "code",
   "execution_count": 36,
   "id": "d5a1e6e8",
   "metadata": {},
   "outputs": [
    {
     "name": "stdout",
     "output_type": "stream",
     "text": [
      "[['logan'], ['follow', 'start', 'vine', 'channel', 'see', 'vlog'], ['attendance'], ['trend'], ['trend', 'ayyeeeee']]\n"
     ]
    }
   ],
   "source": [
    "tokenized_comments = [ele for ele in tokenized_comments if ele != []]\n",
    "print(tokenized_comments[:5])"
   ]
  },
  {
   "cell_type": "code",
   "execution_count": null,
   "id": "30852969",
   "metadata": {},
   "outputs": [],
   "source": []
  },
  {
   "cell_type": "code",
   "execution_count": 37,
   "id": "66cf6bd6",
   "metadata": {},
   "outputs": [
    {
     "data": {
      "text/plain": [
       "[['logan'],\n",
       " ['follow', 'start', 'vine', 'channel', 'see', 'vlog'],\n",
       " ['attendance'],\n",
       " ['trend'],\n",
       " ['trend', 'ayyeeeee']]"
      ]
     },
     "execution_count": 37,
     "metadata": {},
     "output_type": "execute_result"
    }
   ],
   "source": [
    "tokenized_comments[:5]"
   ]
  },
  {
   "cell_type": "code",
   "execution_count": 38,
   "id": "84b96488",
   "metadata": {},
   "outputs": [],
   "source": [
    "#dictionary=id2word\n",
    "dictionary = corpora.Dictionary(tokenized_comments)\n",
    "corpus = [dictionary.doc2bow(txt) for txt in tokenized_comments]"
   ]
  },
  {
   "cell_type": "code",
   "execution_count": 39,
   "id": "11feca78",
   "metadata": {},
   "outputs": [
    {
     "name": "stdout",
     "output_type": "stream",
     "text": [
      "Dictionary<857 unique tokens: ['logan', 'channel', 'follow', 'see', 'start']...>\n"
     ]
    }
   ],
   "source": [
    "print(dictionary)"
   ]
  },
  {
   "cell_type": "code",
   "execution_count": 40,
   "id": "9feb72d1",
   "metadata": {},
   "outputs": [],
   "source": [
    "#lda_model=gensim.models.ldamodel.LdaModel\n",
    "#lda_model = LDA(corpus=doc2, id2word=dictionary, num_topics=10, random_state=100,\n",
    "#                chunksize=1000, passes=50,iterations=100)"
   ]
  },
  {
   "cell_type": "code",
   "execution_count": 41,
   "id": "01172912",
   "metadata": {
    "scrolled": true
   },
   "outputs": [],
   "source": [
    "lda_model=gensim.models.ldamodel.LdaModel(corpus=corpus,id2word=dictionary,num_topics=16,random_state=100,\n",
    "        update_every=1,chunksize=100,passes=10,alpha=\"auto\")\n"
   ]
  },
  {
   "cell_type": "code",
   "execution_count": 42,
   "id": "08c863a5",
   "metadata": {
    "scrolled": true
   },
   "outputs": [
    {
     "data": {
      "text/plain": [
       "[(0,\n",
       "  '0.192*\"happy\" + 0.140*\"year\" + 0.050*\"vlogge\" + 0.041*\"back\" + 0.036*\"join\" + 0.034*\"freak\" + 0.025*\"like\" + 0.020*\"vlogging\" + 0.020*\"right\" + 0.018*\"cause\"'),\n",
       " (1,\n",
       "  '0.114*\"brother\" + 0.105*\"s\" + 0.088*\"never\" + 0.043*\"child\" + 0.035*\"idiot\" + 0.032*\"honestly\" + 0.031*\"bad\" + 0.022*\"hear\" + 0.021*\"die\" + 0.017*\"ve\"'),\n",
       " (2,\n",
       "  '0.234*\"️\" + 0.091*\"single\" + 0.090*\"vlogaversery\" + 0.090*\"remember\" + 0.045*\"logan\" + 0.042*\"look\" + 0.032*\"much\" + 0.023*\"clicked\" + 0.019*\"😘\" + 0.015*\"🏻\"'),\n",
       " (3,\n",
       "  '0.126*\"video\" + 0.094*\"make\" + 0.068*\"youtube\" + 0.061*\"know\" + 0.058*\"even\" + 0.040*\"merch\" + 0.035*\"cool\" + 0.032*\"content\" + 0.032*\"really\" + 0.028*\"start\"'),\n",
       " (4,\n",
       "  '0.153*\"change\" + 0.137*\"mean\" + 0.116*\"drug\" + 0.094*\"shit\" + 0.074*\"well\" + 0.038*\"do\" + 0.025*\"piece\" + 0.020*\"still\" + 0.015*\"❤\" + 0.013*\"pretty\"'),\n",
       " (5,\n",
       "  '0.146*\"good\" + 0.092*\"watch\" + 0.072*\"ever\" + 0.064*\"vlog\" + 0.037*\"title\" + 0.034*\"help\" + 0.030*\"happen\" + 0.027*\"miss\" + 0.027*\"autism\" + 0.026*\"day\"'),\n",
       " (6,\n",
       "  '0.197*\"😂\" + 0.129*\"play\" + 0.103*\"button\" + 0.101*\"love\" + 0.060*\"diamond\" + 0.049*\"want\" + 0.044*\"time\" + 0.024*\"need\" + 0.019*\"plate\" + 0.014*\"fast\"'),\n",
       " (7,\n",
       "  '0.110*\"thank\" + 0.056*\"everyday\" + 0.031*\"vlogiversary\" + 0.031*\"break\" + 0.016*\"line\" + 0.016*\"beautiful\" + 0.005*\"creative\" + 0.005*\"puttun\" + 0.005*\"morning\" + 0.001*\"enjoy\"'),\n",
       " (8,\n",
       "  '0.238*\"evan\" + 0.086*\"drive\" + 0.055*\"funny\" + 0.048*\"music\" + 0.043*\"parking\" + 0.020*\"part\" + 0.018*\"song\" + 0.017*\"word\" + 0.015*\"dickhead\" + 0.011*\"thumbnail\"'),\n",
       " (9,\n",
       "  '0.112*\"re\" + 0.074*\"come\" + 0.051*\"believe\" + 0.048*\"faggot\" + 0.039*\"almost\" + 0.017*\"point\" + 0.017*\"jump\" + 0.004*\"damnn\" + 0.004*\"mili\" + 0.004*\"woooooooooooooooow\"'),\n",
       " (10,\n",
       "  '0.456*\"logan\" + 0.143*\"congrat\" + 0.049*\"go\" + 0.039*\"think\" + 0.035*\"maverick\" + 0.020*\"always\" + 0.016*\"tell\" + 0.013*\"kill\" + 0.013*\"sorry\" + 0.013*\"kinda\"'),\n",
       " (11,\n",
       "  '0.117*\"channel\" + 0.054*\"life\" + 0.049*\"year\" + 0.037*\"world\" + 0.033*\"face\" + 0.032*\"whole\" + 0.030*\"feel\" + 0.024*\"live\" + 0.022*\"glad\" + 0.022*\"real\"'),\n",
       " (12,\n",
       "  '0.090*\"fuck\" + 0.050*\"subscriber\" + 0.049*\"make\" + 0.048*\"people\" + 0.041*\"else\" + 0.036*\"laugh\" + 0.035*\"suck\" + 0.033*\"hate\" + 0.033*\"forever\" + 0.029*\"hard\"'),\n",
       " (13,\n",
       "  '0.145*\"sub\" + 0.081*\"trend\" + 0.080*\"subscribe\" + 0.078*\"let\" + 0.044*\"today\" + 0.015*\"special\" + 0.010*\"second\" + 0.003*\"whoaaaa\" + 0.001*\"manfs\" + 0.001*\"mikey\"'),\n",
       " (14,\n",
       "  '0.100*\"congratulation\" + 0.086*\"birthday\" + 0.054*\"start\" + 0.049*\"open\" + 0.033*\"piss\" + 0.031*\"follow\" + 0.029*\"▄\" + 0.022*\"month\" + 0.022*\"see\" + 0.015*\"login\"'),\n",
       " (15,\n",
       "  '0.109*\"color\" + 0.104*\"asshole\" + 0.103*\"fake\" + 0.102*\"blindness\" + 0.044*\"get\" + 0.040*\"give\" + 0.038*\"say\" + 0.027*\"take\" + 0.020*\"keep\" + 0.020*\"youtube\"')]"
      ]
     },
     "execution_count": 42,
     "metadata": {},
     "output_type": "execute_result"
    }
   ],
   "source": [
    "lda_model.print_topics()"
   ]
  },
  {
   "cell_type": "code",
   "execution_count": 43,
   "id": "f9802551",
   "metadata": {},
   "outputs": [
    {
     "name": "stderr",
     "output_type": "stream",
     "text": [
      "E:\\Anaconda\\lib\\site-packages\\pyLDAvis\\_prepare.py:246: FutureWarning: In a future version of pandas all arguments of DataFrame.drop except for the argument 'labels' will be keyword-only\n",
      "  default_term_info = default_term_info.sort_values(\n"
     ]
    }
   ],
   "source": [
    "pyLDAvis.enable_notebook()\n",
    "vis=pyLDAvis.gensim_models.prepare(lda_model,corpus,dictionary,mds=\"mmds\",n_jobs=1)"
   ]
  },
  {
   "cell_type": "code",
   "execution_count": 44,
   "id": "890cb776",
   "metadata": {},
   "outputs": [
    {
     "data": {
      "text/html": [
       "\n",
       "<link rel=\"stylesheet\" type=\"text/css\" href=\"https://cdn.jsdelivr.net/gh/bmabey/pyLDAvis@3.3.1/pyLDAvis/js/ldavis.v1.0.0.css\">\n",
       "\n",
       "\n",
       "<div id=\"ldavis_el207628172583140964751884791\"></div>\n",
       "<script type=\"text/javascript\">\n",
       "\n",
       "var ldavis_el207628172583140964751884791_data = {\"mdsDat\": {\"x\": [-0.3889337596688593, 0.24248082865214032, 0.29692145977095397, 0.2888671889841716, 0.20411368450912828, 0.04503120141264411, -0.2798552064879842, -0.15595905172586919, -0.1613378182686648, -0.12831328710096762, 0.1512685412146163, -0.016824131265732657, -0.09687653050341134, 0.029308687353138664, -0.032946529205249146, 0.0030547223299451027], \"y\": [0.14134758600459077, -0.2529194760585404, -0.09152398486288181, 0.11459273455195775, 0.31724211166898547, -0.31594287137977106, -0.13003705580336503, -0.3023512275662027, -0.02099708748149081, 0.13964974846617523, 0.023291698618926486, -0.14082361433583998, 0.3538155159667354, 0.13678294311624642, 0.04396819908028557, -0.016095219985811125], \"topics\": [1, 2, 3, 4, 5, 6, 7, 8, 9, 10, 11, 12, 13, 14, 15, 16], \"cluster\": [1, 1, 1, 1, 1, 1, 1, 1, 1, 1, 1, 1, 1, 1, 1, 1], \"Freq\": [12.801453853338352, 11.652101616792502, 10.066599229460097, 8.986095969256683, 8.832305840399853, 6.3896423419967086, 5.974037321553307, 5.107671016437015, 4.818725958530295, 4.730438322925482, 4.679813409752789, 4.647963375530738, 4.221403104720711, 3.198204399490015, 2.3117476364885947, 1.5817966033268607]}, \"tinfo\": {\"Term\": [\"logan\", \"\\ud83d\\ude02\", \"congrat\", \"evan\", \"happy\", \"\\ufe0f\", \"good\", \"video\", \"change\", \"play\", \"year\", \"mean\", \"make\", \"button\", \"love\", \"drug\", \"fuck\", \"watch\", \"channel\", \"sub\", \"color\", \"brother\", \"shit\", \"asshole\", \"fake\", \"blindness\", \"s\", \"congratulation\", \"ever\", \"youtube\", \"congrat\", \"logan\", \"go\", \"think\", \"maverick\", \"always\", \"kill\", \"sorry\", \"kinda\", \"expect\", \"boring\", \"destroy\", \"tell\", \"able\", \"technically\", \"care\", \"minded\", \"simple\", \"cried\", \"game\", \"pitbull\", \"system\", \"cover\", \"dare\", \"logaster\", \"beer\", \"bird\", \"proud\", \"surprised\", \"\\ud83d\\udd25\", \"\\ud83d\\ude04\", \"video\", \"know\", \"even\", \"merch\", \"cool\", \"content\", \"really\", \"check\", \"thing\", \"hour\", \"maybe\", \"dude\", \"also\", \"great\", \"money\", \"youtube\", \"idea\", \"make\", \"enough\", \"start\", \"edit\", \"subscribe\", \"available\", \"dear\", \"wanna\", \"feedback\", \"kind\", \"tell\", \"\\ud83d\\ude04\", \"blog\", \"quality\", \"fuck\", \"subscriber\", \"else\", \"laugh\", \"suck\", \"hate\", \"forever\", \"hard\", \"stop\", \"guy\", \"wait\", \"actually\", \"first\", \"instead\", \"school\", \"description\", \"link\", \"people\", \"parent\", \"trump\", \"audience\", \"sure\", \"understand\", \"pathetic\", \"pewdiepie\", \"bday\", \"talk\", \"say\", \"humble\", \"manage\", \"make\", \"youtube\", \"good\", \"watch\", \"ever\", \"vlog\", \"title\", \"help\", \"happen\", \"miss\", \"autism\", \"day\", \"grow\", \"literally\", \"forget\", \"straight\", \"humor\", \"nickelodeon\", \"personify\", \"rampant\", \"rapid\", \"ridiculous\", \"advice\", \"click\", \"seem\", \"show\", \"life\", \"entertain\", \"alya\", \"board\", \"card\", \"picture\", \"people\", \"\\ud83d\\ude02\", \"play\", \"button\", \"love\", \"diamond\", \"want\", \"time\", \"need\", \"plate\", \"fast\", \"ruin\", \"stand\", \"fall\", \"break\", \"appraise\", \"divide\", \"spread\", \"\\ud83d\\ude2d\", \"handedly\", \"youtubethank\", \"fact\", \"hide\", \"proud\", \"sick\", \"bully\", \"bark\", \"dioman\", \"door\", \"fix\", \"rate\", \"already\", \"change\", \"mean\", \"drug\", \"shit\", \"well\", \"do\", \"piece\", \"still\", \"\\u2764\", \"pretty\", \"girl\", \"attack\", \"\\ud83d\\udc7b\", \"tone\", \"casey\", \"attendance\", \"overall\", \"permanent\", \"count\", \"guess\", \"drop\", \"quality\", \"booi\", \"crap\", \"watchnmake\", \"load\", \"flow\", \"dumb\", \"crow\", \"pig\", \"\\ud83e\\udd23\", \"fuke\", \"happy\", \"vlogge\", \"back\", \"join\", \"freak\", \"like\", \"vlogging\", \"right\", \"year\", \"boy\", \"movie\", \"ohhhhhhhh\", \"comment\", \"arrogant\", \"appreciate\", \"cause\", \"homeless\", \"negative\", \"remove\", \"diss\", \"dollar\", \"guarantee\", \"highly\", \"loan\", \"veteran\", \"wonder\", \"allot\", \"vlogaversary\", \"mill\", \"easy\", \"color\", \"asshole\", \"fake\", \"blindness\", \"get\", \"give\", \"take\", \"keep\", \"damn\", \"hater\", \"friend\", \"stupid\", \"probably\", \"leave\", \"use\", \"joke\", \"anymore\", \"say\", \"moron\", \"grant\", \"ability\", \"buck\", \"earn\", \"opinion\", \"rolex\", \"cause\", \"youtube\", \"cancer\", \"dream\", \"evict\", \"channel\", \"world\", \"face\", \"whole\", \"feel\", \"live\", \"glad\", \"real\", \"hope\", \"hair\", \"waste\", \"inspire\", \"old\", \"fucktard\", \"life\", \"pet\", \"privileged\", \"realize\", \"around\", \"charge\", \"date\", \"douchey\", \"flip\", \"impress\", \"inevitable\", \"pair\", \"rape\", \"schtick\", \"scream\", \"white\", \"year\", \"congratulation\", \"birthday\", \"open\", \"piss\", \"follow\", \"\\u2584\", \"month\", \"see\", \"login\", \"jealous\", \"flog\", \"twelfth\", \"pawl\", \"\\u2588\", \"\\u2591\", \"buy\", \"\\u258c\", \"start\", \"show\", \"bobn\", \"tomorrow\", \"lowkey\", \"horrible\", \"human\", \"buuuuuuuuuuuuuuuuuuurnnnnnnhell\", \"vine\", \"\\ud83d\\ude04\", \"ak0108\", \"snapchat\", \"\\ud83d\\ude00\", \"evan\", \"drive\", \"funny\", \"music\", \"parking\", \"part\", \"song\", \"word\", \"dickhead\", \"thumbnail\", \"famous\", \"try\", \"stream\", \"annoying\", \"accidentally\", \"nigr\", \"upload\", \"threaten\", \"dumber\", \"haha\", \"remind\", \"abuse\", \"shithead\", \"dumb\", \"hilarious\", \"serious\", \"question\", \"theme\", \"notice\", \"long\", \"brother\", \"s\", \"never\", \"child\", \"idiot\", \"honestly\", \"bad\", \"hear\", \"die\", \"ve\", \"throw\", \"midget\", \"ground\", \"consist\", \"fanbase\", \"brat\", \"hollywood\", \"spoil\", \"ayyeeeee\", \"vine\", \"allow\", \"breed\", \"idolize\", \"\\u2642\", \"\\ufe0fnnnpretentious\", \"\\ud83c\\udffc\\u200d\", \"demographic\", \"include\", \"website\", \"cyanide\", \"gift\", \"\\ufe0f\", \"single\", \"remember\", \"vlogaversery\", \"look\", \"much\", \"clicked\", \"\\ud83d\\ude18\", \"\\ud83c\\udffb\", \"amazing\", \"driving\", \"dislike\", \"indeed\", \"productive\", \"ball\", \"\\ud83d\\ude0d\", \"pomeranian\", \"thay\", \"\\ud83d\\udc8b\", \"itchy\", \"\\ud83d\\udc4d\", \"\\ud83d\\udc4f\", \"hysterical\", \"favorite\", \"long\", \"agree\", \"retarded\", \"hot\", \"holy\", \"vloging\", \"logan\", \"name\", \"sub\", \"trend\", \"let\", \"today\", \"special\", \"subscribe\", \"second\", \"whoaaaa\", \"manfs\", \"mikey\", \"quick\", \"total\", \"loganger\", \"view\", \"logang\", \"savage\", \"giveaway\", \"iphone\", \"50mil\", \"family\", \"find\", \"call\", \"unsubscribe\", \"proud\", \"hurricane\", \"feke\", \"spirit\", \"stay\", \"shirt\", \"btw\", \"mill\", \"exact\", \"\\ud83d\\ude42\", \"many\", \"re\", \"come\", \"believe\", \"faggot\", \"almost\", \"point\", \"jump\", \"damnn\", \"mili\", \"woooooooooooooooow\", \"someday\", \"meet\", \"evict\", \"narcissistic\", \"happiness\", \"person\", \"refer\", \"third\", \"carbon\", \"copy\", \"vlogger\", \"case\", \"btw\", \"exact\", \"\\ud83d\\ude42\", \"classmate\", \"\\ud83d\\ude12\", \"hero\", \"already\", \"mill\", \"\\ud83c\\udf89\", \"work\", \"proud\", \"thank\", \"everyday\", \"vlogiversary\", \"line\", \"beautiful\", \"break\", \"creative\", \"puttun\", \"morning\", \"shoot\", \"enjoy\", \"mark\", \"dancing\", \"mirror\", \"lool\", \"speech\", \"touch\", \"yous\", \"poor\", \"smile\", \"btw\", \"exact\", \"\\ud83d\\ude42\", \"feke\", \"spirit\", \"stay\", \"strong\", \"classmate\", \"\\ud83d\\ude12\", \"dent\", \"universe\", \"reach\"], \"Freq\": [184.0, 53.0, 56.0, 34.0, 35.0, 31.0, 40.0, 45.0, 30.0, 35.0, 33.0, 27.0, 49.0, 28.0, 28.0, 23.0, 28.0, 26.0, 18.0, 15.0, 18.0, 17.0, 19.0, 17.0, 17.0, 16.0, 15.0, 15.0, 20.0, 31.0, 55.70268517282431, 177.47436827510074, 19.04053286722619, 15.25654432817493, 13.667028715299256, 7.69632196069837, 5.111777956614726, 4.997894688745283, 4.882700122360009, 3.242726699429919, 1.959630706281004, 1.8473548482837852, 6.1858742414157, 0.8923000404394015, 0.7796802293488927, 0.7789532705323845, 0.429260845087897, 0.429260845087897, 0.42924027676540577, 0.42924027676540577, 0.42924027676540577, 0.42924027676540577, 0.4290551618629844, 0.4290551618629844, 0.08619560450495645, 0.08342876871397509, 0.08264811819439977, 0.08328014672733945, 0.0819240815294349, 0.08160488177799773, 0.0822881045937901, 44.67598920247426, 21.617068696455693, 20.496012399891594, 14.162099944888597, 12.34810222108618, 11.34948114779191, 11.252854403410575, 9.379154613427964, 9.058378234437978, 8.56895008343334, 5.849566692608596, 5.768262990299725, 5.368480309642286, 5.235100433345501, 4.793217655006368, 24.21444177096439, 2.2465958893253397, 33.28010874316393, 1.8219215127177308, 9.840104101628018, 0.9453386320109309, 6.045796509427966, 0.6581119642365937, 0.5204569977995065, 0.5204569977995065, 0.5203734926964969, 0.5203734926964969, 3.2923776757291283, 0.10917779847693855, 0.09950206219121098, 0.1003456802263199, 27.562921721725335, 15.228327189343549, 12.467158422571092, 10.946239130880171, 10.816854785842162, 10.122166921428677, 9.986665172560674, 8.846337663486114, 7.274338163817776, 7.174071908590401, 6.447187871932257, 6.188680248847868, 4.780074485021946, 4.457375732836981, 4.062433815910132, 3.851500806919963, 3.851500806919963, 14.825783548835183, 3.5140557598149456, 3.182633494005842, 3.074515563503002, 2.920282828001044, 2.777142874574528, 2.7592831562739835, 2.226475209661401, 1.8037293731186692, 1.8033510254861536, 8.557388375144463, 1.0766483249343655, 0.518092111883283, 14.930471412477512, 3.3393885470579057, 39.95669950199403, 25.167558968236094, 19.68193248737467, 17.353236569132765, 9.982486782387856, 9.240328262703681, 8.296894979854866, 7.254132014700541, 7.241412222279656, 7.131626034083708, 5.971221526089318, 4.348318384491016, 3.928753248174915, 2.1649213399612792, 1.7542096330486172, 1.7542096330486172, 1.7542096330486172, 1.7542096330486172, 1.7542096330486172, 1.7542096330486172, 1.7517700360903834, 1.0457266594880896, 1.0456462003642977, 2.2910049212066115, 4.851263088178584, 0.5032826002054689, 0.5032207770684525, 0.5032207770684525, 0.5032207770684525, 0.5032207770684525, 3.277910554858467, 52.78290839596549, 34.7196211982426, 27.585310505837583, 27.024289263786713, 15.977213446939944, 13.231891074669589, 11.870227117979693, 6.510421346874265, 5.225250375276774, 3.6297903918388528, 3.0009375644021636, 1.752265026493327, 1.3380354672429142, 1.6791655086387955, 0.38434211011780767, 0.3843329203369601, 0.3843329203369601, 0.38422473723657435, 0.38413940355727555, 0.38413940355727555, 0.3839688924874679, 0.07794580661134574, 0.07645173266630426, 0.07454149293145172, 0.0749146793040335, 0.07400387512299035, 0.07345841943171424, 0.07340701604870807, 0.07340701604870807, 0.07340701604870807, 0.07340829761678545, 29.732010837698414, 26.58153947856218, 22.5779742941369, 18.261770758340553, 14.372990438385393, 7.433740801299577, 4.815456478032912, 3.8531919900501967, 2.9091400999873205, 2.527373112854507, 1.304397207763559, 0.37264063034528677, 0.37264063034528677, 0.37258708250337697, 0.372578851331732, 0.3723813032122539, 0.07328304829221813, 0.07328304829221813, 0.07328384540430737, 0.0732844446516936, 0.07328351751422811, 0.07328313874465378, 0.07172677456377306, 0.07172677456377306, 0.07172677456377306, 0.07172812004375348, 0.07150389976231053, 0.07172723813250581, 0.07080154790597674, 0.07080154790597674, 0.07137817653002244, 0.07080180795672926, 34.935357709269546, 9.041248062732382, 7.491783377990342, 6.540182229839252, 6.2617916165020215, 4.561026405813977, 3.5978883426578503, 3.5978568829570596, 25.36728955641148, 3.106131273030696, 3.0145328022767233, 2.7285494070674616, 2.662621375606036, 2.37671578395787, 1.866332541804476, 3.3410932916698823, 1.4982640217050942, 1.2215290174065203, 1.2215290174065203, 0.6364810804333918, 0.35047060197365126, 0.35047060197365126, 0.35047060197365126, 0.35047060197365126, 0.35047060197365126, 0.35047060197365126, 0.35042867684820234, 0.3504252729424044, 0.07015370037444355, 0.06736202191902507, 16.98445679045033, 16.126187068996163, 16.057811100698036, 15.844440458017296, 6.759255536140687, 6.174638924815808, 4.195440737890825, 3.125345959395579, 2.69157810159483, 2.265904612300273, 2.254833458577732, 2.2140744217091655, 2.212834106586473, 2.2076721282001324, 1.840797847380886, 1.1286280502198716, 0.7528362116865602, 5.868610075974973, 0.47497590696451863, 0.47496484434275277, 0.26150891824781297, 0.26150891824781297, 0.26150891824781297, 0.2614802494273543, 0.2614802494273543, 1.0460617026895247, 3.1134312988395685, 0.058270005729438856, 0.05229278713509711, 0.05058721375100454, 17.073892675353637, 5.349605355348232, 4.873561744742204, 4.67052627708614, 4.357202070441765, 3.490475324679585, 3.292125639310578, 3.276187485525474, 2.375158183075488, 2.2444474225839577, 1.8129075565464245, 1.8127517548993093, 1.8107703999771951, 1.4752582379239436, 7.8736951787594895, 1.1242487234181882, 0.7654764805236128, 0.7653955782672737, 0.4215227205578587, 0.4215227205578587, 0.4215227205578587, 0.4215227205578587, 0.4215227205578587, 0.4215227205578587, 0.4215227205578587, 0.4215227205578587, 0.4215227205578587, 0.4215227205578587, 0.4215227205578587, 0.4215227205578587, 7.19504284966743, 14.45151403972963, 12.31707025489647, 6.994663887219189, 4.7245402355451285, 4.509540564686097, 4.171994386808719, 3.1777909321353515, 3.1508296559439835, 2.1400905054470427, 1.7882559628001433, 1.4578794138450863, 1.4578794138450863, 1.4578681637969015, 1.4421589447274739, 1.4421589447274739, 1.3196076162599042, 0.7596823385954424, 7.818688666576498, 2.0355332272635684, 0.4183739905865621, 0.41827833169470535, 0.4182738785506322, 0.41823912393748996, 0.41823912393748996, 0.41804285077540937, 0.4182721039894602, 0.0827278906018181, 0.0793552952415714, 0.0793552952415714, 0.07931595355521098, 33.83685386776881, 12.237248136435397, 7.7897739849771215, 6.760539393932905, 6.094966670623021, 2.809482114153877, 2.624267766463411, 2.3739470819093826, 2.071856959459502, 1.5949997864669907, 1.5949979315252016, 1.5931745237465267, 1.0674401645948797, 0.7704296014906569, 0.3708234336184419, 0.3708234336184419, 0.3708234336184419, 0.3707960069791318, 0.07292340108338044, 0.07292340108338044, 0.07292337624041005, 0.07240127637470245, 0.07240042343271907, 0.07292340936437057, 0.07179543913680166, 0.07179543913680166, 0.07179544741779179, 0.07161261143671453, 0.0716126279986948, 0.07093038206486577, 16.08345900152591, 14.785828557181489, 12.487218663002693, 6.128759793481092, 4.934940774271839, 4.491247061767675, 4.346185624503138, 3.1487238174912506, 2.9100692367501946, 2.4109354574120223, 2.1466202908773724, 1.723657912468546, 0.4031820748549825, 0.4031669744323124, 0.4031669744323124, 0.4031638819710249, 0.4031638819710249, 0.4031638819710249, 0.4027795614097361, 0.40316704022936106, 0.09091918431704464, 0.09091918431704464, 0.09091918431704464, 0.07882524264118997, 0.07882524264118997, 0.07882524264118997, 0.0782499872692883, 0.07788946879035634, 0.07788946879035634, 0.07765346300140363, 0.07765347945066581, 30.088022178791988, 11.730803063400813, 11.574923904807616, 11.574923904807616, 5.342152208400377, 4.158783858470387, 2.93981586588499, 2.4047214284573037, 1.9717898454496874, 1.9263481975254402, 1.769371751197588, 1.643416481286269, 1.487509116625607, 1.487509116625607, 1.1758019528157948, 0.6650185759206957, 0.5128679965081937, 0.19103491423776758, 0.19103491423776758, 0.19095370227657635, 0.03707978891276917, 0.03707978891276917, 0.037033808391511554, 0.037033808391511554, 0.03633936843712359, 0.03633911072808559, 0.03625807430783327, 0.03564995567643336, 0.03565779526006748, 0.035674650925117894, 5.776746993250433, 0.035674650925117894, 14.111772391237007, 7.91697516077534, 7.59871047387504, 4.269135713019211, 1.4466846922571712, 7.77566488063531, 0.9727857208314283, 0.3363942746104788, 0.06463968776465658, 0.06463968776465658, 0.06376898737734502, 0.06376898737734502, 0.06365113320673026, 0.06376898737734502, 0.06354763658861728, 0.0633576777367155, 0.06307790636679898, 0.06307790636679898, 0.06297716015093902, 0.0630778837297434, 0.06307763472213203, 0.06307771395182656, 0.06271208588935799, 0.06354763658861728, 0.0627359453459396, 0.06258712934255493, 0.06258712934255493, 0.06258712934255493, 0.06273584347918948, 0.06266670991144735, 0.06305250759043793, 0.06266670991144735, 0.06266670991144735, 0.06296943525572225, 7.844137292454155, 5.203824048009171, 3.571002217543444, 3.398817721572592, 2.7121555713193457, 1.2045283169174257, 1.2044970314944463, 0.28010614784019766, 0.28010614784019766, 0.2800058446797039, 0.2799063596526562, 0.2799063596526562, 0.053307763183312824, 0.05318974743371064, 0.05261214931142022, 0.052615115045162385, 0.052615115045162385, 0.052615115045162385, 0.05238404552530871, 0.05238404552530871, 0.05238404552530871, 0.05238300649583215, 0.05224135078030445, 0.05224135078030445, 0.05224135078030445, 0.052099780968788596, 0.052099780968788596, 0.05218489139118801, 0.05225897337473378, 0.052383333749210594, 0.05218684673012423, 0.05218685900212592, 0.052186814004786385, 5.309169047896387, 2.7052117533157274, 1.502368289140963, 0.7750635468009588, 0.773997236152627, 1.4932802412675494, 0.22243378955071844, 0.22238806493198904, 0.22229175661408743, 0.04353090625199851, 0.04353090625199851, 0.0430269082094991, 0.041983205160670035, 0.041983205160670035, 0.04182745147960884, 0.04182745147960884, 0.04182745147960884, 0.04182745147960884, 0.04182744868059937, 0.04158680943929048, 0.04157142048521518, 0.04157142048521518, 0.04157142048521518, 0.0415014984296031, 0.0415014984296031, 0.0415014984296031, 0.041501473238517855, 0.04143808407101268, 0.04143808407101268, 0.041501274508845366, 0.041501274508845366, 0.04150149283158416], \"Total\": [184.0, 53.0, 56.0, 34.0, 35.0, 31.0, 40.0, 45.0, 30.0, 35.0, 33.0, 27.0, 49.0, 28.0, 28.0, 23.0, 28.0, 26.0, 18.0, 15.0, 18.0, 17.0, 19.0, 17.0, 17.0, 16.0, 15.0, 15.0, 20.0, 31.0, 56.72892910216924, 184.24206062135565, 20.066776857560974, 16.282788312755233, 14.693272700256719, 8.722565729412862, 6.138021993079354, 6.024213206236408, 5.908943883654505, 4.268971024074662, 2.9858744138392983, 2.8735985793322802, 10.408325161911065, 1.9185437794294866, 1.8059262981704747, 1.8052014109164418, 1.4555045253770882, 1.4555045253770882, 1.455484282825328, 1.455484282825328, 1.455484282825328, 1.455484282825328, 1.4552996709177368, 1.4552996709177368, 1.1124494988337, 1.1130231677316849, 1.108914080257809, 1.121673228149133, 1.1081723497138036, 1.108780663332566, 1.1312020657505035, 45.68541389727088, 22.626490793714527, 21.50543434364289, 15.17152184254913, 13.357524215341778, 12.358903179858501, 12.262276358044959, 10.388576623826692, 10.067800422221598, 9.578372205294073, 6.8589886509785964, 6.777685213176974, 6.377902872780703, 6.244522398649695, 5.802639757882611, 31.53272656030485, 3.256017839666943, 49.12426162940251, 2.831343407260283, 18.590938271427824, 1.9547604767014308, 14.768739950014526, 1.6675388835053548, 1.5298788603338058, 1.5298788603338058, 1.5297954691457498, 1.5297954691457498, 10.408325161911065, 1.1312020657505035, 1.1089284566825317, 1.1186899463392568, 28.572773577879975, 16.238179488857494, 13.477010587497448, 11.956355205101556, 11.826706571886874, 11.13201886380297, 10.99651719681681, 9.856189595227415, 8.284190133444064, 8.18392426425106, 7.457039715026216, 7.198532068130715, 5.789926621992232, 5.4672274811780825, 5.0722859716592685, 4.86135356273443, 4.86135356273443, 19.02055809460304, 4.523908240647531, 4.192485379604826, 4.084367363353848, 3.9301346519229834, 3.7869948655427432, 3.7691358369164076, 3.236327270270874, 2.81358112145977, 2.813203377644424, 15.387531187360501, 2.086500118383358, 1.527944139561321, 49.12426162940251, 31.53272656030485, 40.969303953034824, 26.180163547975585, 20.694536905614843, 18.365841006147846, 10.995091135338605, 10.25293268342865, 9.309499435819944, 8.266736369906381, 8.25401657495784, 8.144230349633391, 6.9838270276330885, 5.360922730636823, 4.941358127895118, 3.1775256436207595, 2.7668139299999925, 2.7668139299999925, 2.7668139299999925, 2.7668139299999925, 2.7668139299999925, 2.7668139299999925, 2.7643745832102664, 2.0583309196234607, 2.058250618128101, 5.261866010130415, 13.659694668745834, 1.5158868603408397, 1.5158250745529591, 1.5158250745529591, 1.5158250745529591, 1.5158250745529591, 19.02055809460304, 53.81747585028261, 35.75418813130774, 28.61987730544313, 28.05885625362186, 17.011780291582504, 14.266458181392599, 12.904794299392552, 7.544988425118352, 6.259817605252648, 4.664358068605325, 4.035504437395161, 2.786831936154351, 2.372602602350455, 4.165928837820513, 1.4189088470034223, 1.4188997365060951, 1.4188997365060951, 1.4187915376157199, 1.4187066092098497, 1.4187066092098497, 1.4185367068878922, 1.1144107321355534, 1.121673228149133, 1.1091309427942246, 1.1169014796645922, 1.1095047891435135, 1.1087843670768214, 1.1093164278890122, 1.1093164278890122, 1.1093164278890122, 1.1133055695713765, 30.76875259306811, 27.618278015433738, 23.61471276866897, 19.298509356794096, 15.409729086841855, 8.470479532130387, 5.852195181623772, 4.8899309732103875, 3.945878837579558, 3.564111768109993, 2.3411357723388337, 1.409379104877355, 1.409379104877355, 1.4093255570354455, 1.409317439125488, 1.409119789070491, 1.1108886229745718, 1.1108886229745718, 1.112285590061573, 1.113170094617529, 1.1152013415846282, 1.1186899463392568, 1.1102120456669204, 1.1102120456669204, 1.1102120456669204, 1.111573893634325, 1.1136291493990054, 1.1190232797240622, 1.1096328829698772, 1.1096328829698772, 1.1270780707963466, 1.1096631127592338, 35.97620170445395, 10.082091669468129, 8.532627389046489, 7.581026353215455, 7.302635158812858, 5.601869995499715, 4.638731838642091, 4.6387003497415185, 33.52530808117434, 4.146974681687952, 4.055376165658726, 3.7693927704494645, 3.703464969658616, 3.4175593082026685, 2.9071759051864787, 5.379679764618525, 2.5391078313019717, 2.2623723807885234, 2.2623723807885234, 1.6773244890895065, 1.391314015737825, 1.391314015737825, 1.391314015737825, 1.391314015737825, 1.391314015737825, 1.391314015737825, 1.3912721590747472, 1.3912686363244078, 1.1160996961795748, 1.1118312111957407, 18.041730082597685, 17.18346032604036, 17.115084357742234, 16.901713715061494, 7.816528885456166, 7.231912532093687, 5.252714406203234, 4.182619642499106, 3.74885143421155, 3.3231781698644607, 3.3121071716414097, 3.271347749347676, 3.2701075396787758, 3.264945821111965, 2.898071347733821, 2.1859018923747575, 1.8101097968092719, 15.387531187360501, 1.5322491796375977, 1.5322381871066553, 1.3187822143642103, 1.3187822143642103, 1.3187822143642103, 1.3187537350387906, 1.3187537350387906, 5.379679764618525, 31.53272656030485, 1.1209248612104137, 1.109615641556144, 1.111319381828256, 18.10161731285362, 6.377329881386794, 5.901286196593012, 5.698251040819665, 5.384926463213888, 4.518199715022829, 4.319850059811695, 4.3039119970356925, 3.4028825836734997, 3.2721719287041204, 2.8406319392728268, 2.840476474708396, 2.8384952969338606, 2.502982585877537, 13.659694668745834, 2.15197309150587, 1.7932009124069197, 1.793120046693153, 1.4492472694347058, 1.4492472694347058, 1.4492472694347058, 1.4492472694347058, 1.4492472694347058, 1.4492472694347058, 1.4492472694347058, 1.4492472694347058, 1.4492472694347058, 1.4492472694347058, 1.4492472694347058, 1.4492472694347058, 33.52530808117434, 15.479830134308411, 13.345386181607925, 8.02297992048966, 5.7528564684331736, 5.537856450925526, 5.200310259580431, 4.206107057443138, 4.179145650378327, 3.168407361086136, 2.81657220972949, 2.4861952866167987, 2.4861952866167987, 2.486184036568614, 2.4704748174991864, 2.4704748174991864, 2.347923542223901, 1.787998211367155, 18.590938271427824, 5.261866010130415, 1.4466898678773197, 1.446594204466418, 1.4465898631157115, 1.4465551687545897, 1.4465551687545897, 1.4463592795548388, 1.7752777902238364, 1.1312020657505035, 1.1076848237935066, 1.1076960110572298, 1.1076531913854006, 34.87393769617194, 13.274331934961388, 8.826857852782165, 7.79762333014649, 7.132050419999054, 3.846566239819726, 3.6613516144076246, 3.41103179765379, 3.1089406779077193, 2.6320835049152076, 2.632081649973419, 2.6302585455396525, 2.1045239886637, 1.8075133724486305, 1.4079072986655448, 1.4079072986655448, 1.4079072986655448, 1.407879725427349, 1.1100255401415673, 1.1100255401415673, 1.1123740956894945, 1.1095035164690727, 1.1095026635270895, 1.1190232797240622, 1.1088897380322407, 1.1088897380322407, 1.1106667364169436, 1.109962010660292, 1.1099981094496096, 1.1113711172289278, 17.114574142944715, 15.816943766393964, 13.51833373543975, 7.159874822177352, 5.966055755422416, 5.522362134312973, 5.377300667430701, 4.179838948725353, 3.9411843070365764, 3.442050405176088, 3.177735588266078, 2.754772929753511, 1.4342970226190477, 1.434281993448286, 1.434281993448286, 1.4342788297350901, 1.4342788297350901, 1.4342788297350901, 1.4338950864187188, 1.7752777902238364, 1.1236118508772734, 1.1236118508772734, 1.1236118508772734, 1.1125668093170464, 1.1125668093170464, 1.1125668093170464, 1.1093834680056756, 1.1099860372741572, 1.1099860372741572, 1.108782022329257, 1.110521709278633, 31.15831569395007, 12.801096650866056, 12.645217500087298, 12.645217500087298, 6.412446040016228, 5.22907761005086, 4.010109349011211, 3.475014880655709, 3.042083358019168, 2.9966420233269426, 2.8396653001263696, 2.7137099541032184, 2.557802620370372, 2.557802620370372, 2.2460956258876905, 1.7353121179737572, 1.5831614487065988, 1.2613283664361727, 1.2613283664361727, 1.2612471544749815, 1.1073765939609952, 1.1073765939609952, 1.1083082873581311, 1.109944971433171, 1.1113711172289278, 1.1124275399154113, 1.1108808916766002, 1.106621894953889, 1.1074201421900702, 1.1088787252624592, 184.24206062135565, 1.112204804295674, 15.155221685426737, 8.960424264062679, 8.642159646516458, 5.312585476090141, 2.490134129230646, 14.768739950014526, 2.016237421075481, 1.3798433396647842, 1.1081181568696923, 1.1081181568696923, 1.1081331088905502, 1.1081331088905502, 1.1080890843797353, 1.1105109101492838, 1.1070114145474503, 1.1075226227865935, 1.108455670308572, 1.108455670308572, 1.1082507133767774, 1.1104793124072754, 1.1117993311188699, 1.1121997725194808, 1.1061669686859184, 1.121673228149133, 1.1090380696847522, 1.1073484635350088, 1.1073484635350088, 1.1073484635350088, 1.1104184015842586, 1.1092085952570374, 1.1160996961795748, 1.1092085952570374, 1.1092085952570374, 1.1176418273158462, 8.897990276362401, 6.257677183578444, 4.624855357543489, 4.452670694610512, 3.7660087193363503, 2.2583814800614954, 2.258350393688451, 1.3339590668605157, 1.3339590668605157, 1.3338587161299098, 1.3337596757216472, 1.677323644411111, 1.111319381828256, 1.1100973460883266, 1.1071429841919274, 1.1076596485681347, 1.1076596485681347, 1.1076596485681347, 1.1075050346660706, 1.1075050346660706, 1.1075050346660706, 1.1081869682130159, 1.1092085952570374, 1.1092085952570374, 1.1092085952570374, 1.107329387433852, 1.107329387433852, 1.1105469447988559, 1.1133055695713765, 1.1160996961795748, 1.1142156459248544, 1.1153677384539131, 1.121673228149133, 6.373677814059018, 3.7697204925107646, 2.5668772074344313, 1.8395722334791853, 1.8385061050261537, 4.165928837820513, 1.286942368415471, 1.2868967219411367, 1.2868007138118698, 1.1080687070043673, 1.113080577424708, 1.1146479623264938, 1.109419242685301, 1.109419242685301, 1.108374327189132, 1.108374327189132, 1.108374327189132, 1.108374327189132, 1.1084821563587315, 1.1067651170133077, 1.1092085952570374, 1.1092085952570374, 1.1092085952570374, 1.1073484635350088, 1.1073484635350088, 1.1073484635350088, 1.1080118251172149, 1.107329387433852, 1.107329387433852, 1.1101386944721834, 1.1101386944721834, 1.1111978333162387], \"Category\": [\"Default\", \"Default\", \"Default\", \"Default\", \"Default\", \"Default\", \"Default\", \"Default\", \"Default\", \"Default\", \"Default\", \"Default\", \"Default\", \"Default\", \"Default\", \"Default\", \"Default\", \"Default\", \"Default\", \"Default\", \"Default\", \"Default\", \"Default\", \"Default\", \"Default\", \"Default\", \"Default\", \"Default\", \"Default\", \"Default\", \"Topic1\", \"Topic1\", \"Topic1\", \"Topic1\", \"Topic1\", \"Topic1\", \"Topic1\", \"Topic1\", \"Topic1\", \"Topic1\", \"Topic1\", \"Topic1\", \"Topic1\", \"Topic1\", \"Topic1\", \"Topic1\", \"Topic1\", \"Topic1\", \"Topic1\", \"Topic1\", \"Topic1\", \"Topic1\", \"Topic1\", \"Topic1\", \"Topic1\", \"Topic1\", \"Topic1\", \"Topic1\", \"Topic1\", \"Topic1\", \"Topic1\", \"Topic2\", \"Topic2\", \"Topic2\", \"Topic2\", \"Topic2\", \"Topic2\", \"Topic2\", \"Topic2\", \"Topic2\", \"Topic2\", \"Topic2\", \"Topic2\", \"Topic2\", \"Topic2\", \"Topic2\", \"Topic2\", \"Topic2\", \"Topic2\", \"Topic2\", \"Topic2\", \"Topic2\", \"Topic2\", \"Topic2\", \"Topic2\", \"Topic2\", \"Topic2\", \"Topic2\", \"Topic2\", \"Topic2\", \"Topic2\", \"Topic2\", \"Topic3\", \"Topic3\", \"Topic3\", \"Topic3\", \"Topic3\", \"Topic3\", \"Topic3\", \"Topic3\", \"Topic3\", \"Topic3\", \"Topic3\", \"Topic3\", \"Topic3\", \"Topic3\", \"Topic3\", \"Topic3\", \"Topic3\", \"Topic3\", \"Topic3\", \"Topic3\", \"Topic3\", \"Topic3\", \"Topic3\", \"Topic3\", \"Topic3\", \"Topic3\", \"Topic3\", \"Topic3\", \"Topic3\", \"Topic3\", \"Topic3\", \"Topic3\", \"Topic4\", \"Topic4\", \"Topic4\", \"Topic4\", \"Topic4\", \"Topic4\", \"Topic4\", \"Topic4\", \"Topic4\", \"Topic4\", \"Topic4\", \"Topic4\", \"Topic4\", \"Topic4\", \"Topic4\", \"Topic4\", \"Topic4\", \"Topic4\", \"Topic4\", \"Topic4\", \"Topic4\", \"Topic4\", \"Topic4\", \"Topic4\", \"Topic4\", \"Topic4\", \"Topic4\", \"Topic4\", \"Topic4\", \"Topic4\", \"Topic4\", \"Topic5\", \"Topic5\", \"Topic5\", \"Topic5\", \"Topic5\", \"Topic5\", \"Topic5\", \"Topic5\", \"Topic5\", \"Topic5\", \"Topic5\", \"Topic5\", \"Topic5\", \"Topic5\", \"Topic5\", \"Topic5\", \"Topic5\", \"Topic5\", \"Topic5\", \"Topic5\", \"Topic5\", \"Topic5\", \"Topic5\", \"Topic5\", \"Topic5\", \"Topic5\", \"Topic5\", \"Topic5\", \"Topic5\", \"Topic5\", \"Topic5\", \"Topic6\", \"Topic6\", \"Topic6\", \"Topic6\", \"Topic6\", \"Topic6\", \"Topic6\", \"Topic6\", \"Topic6\", \"Topic6\", \"Topic6\", \"Topic6\", \"Topic6\", \"Topic6\", \"Topic6\", \"Topic6\", \"Topic6\", \"Topic6\", \"Topic6\", \"Topic6\", \"Topic6\", \"Topic6\", \"Topic6\", \"Topic6\", \"Topic6\", \"Topic6\", \"Topic6\", \"Topic6\", \"Topic6\", \"Topic6\", \"Topic6\", \"Topic6\", \"Topic7\", \"Topic7\", \"Topic7\", \"Topic7\", \"Topic7\", \"Topic7\", \"Topic7\", \"Topic7\", \"Topic7\", \"Topic7\", \"Topic7\", \"Topic7\", \"Topic7\", \"Topic7\", \"Topic7\", \"Topic7\", \"Topic7\", \"Topic7\", \"Topic7\", \"Topic7\", \"Topic7\", \"Topic7\", \"Topic7\", \"Topic7\", \"Topic7\", \"Topic7\", \"Topic7\", \"Topic7\", \"Topic7\", \"Topic7\", \"Topic8\", \"Topic8\", \"Topic8\", \"Topic8\", \"Topic8\", \"Topic8\", \"Topic8\", \"Topic8\", \"Topic8\", \"Topic8\", \"Topic8\", \"Topic8\", \"Topic8\", \"Topic8\", \"Topic8\", \"Topic8\", \"Topic8\", \"Topic8\", \"Topic8\", \"Topic8\", \"Topic8\", \"Topic8\", \"Topic8\", \"Topic8\", \"Topic8\", \"Topic8\", \"Topic8\", \"Topic8\", \"Topic8\", \"Topic8\", \"Topic9\", \"Topic9\", \"Topic9\", \"Topic9\", \"Topic9\", \"Topic9\", \"Topic9\", \"Topic9\", \"Topic9\", \"Topic9\", \"Topic9\", \"Topic9\", \"Topic9\", \"Topic9\", \"Topic9\", \"Topic9\", \"Topic9\", \"Topic9\", \"Topic9\", \"Topic9\", \"Topic9\", \"Topic9\", \"Topic9\", \"Topic9\", \"Topic9\", \"Topic9\", \"Topic9\", \"Topic9\", \"Topic9\", \"Topic9\", \"Topic9\", \"Topic10\", \"Topic10\", \"Topic10\", \"Topic10\", \"Topic10\", \"Topic10\", \"Topic10\", \"Topic10\", \"Topic10\", \"Topic10\", \"Topic10\", \"Topic10\", \"Topic10\", \"Topic10\", \"Topic10\", \"Topic10\", \"Topic10\", \"Topic10\", \"Topic10\", \"Topic10\", \"Topic10\", \"Topic10\", \"Topic10\", \"Topic10\", \"Topic10\", \"Topic10\", \"Topic10\", \"Topic10\", \"Topic10\", \"Topic10\", \"Topic11\", \"Topic11\", \"Topic11\", \"Topic11\", \"Topic11\", \"Topic11\", \"Topic11\", \"Topic11\", \"Topic11\", \"Topic11\", \"Topic11\", \"Topic11\", \"Topic11\", \"Topic11\", \"Topic11\", \"Topic11\", \"Topic11\", \"Topic11\", \"Topic11\", \"Topic11\", \"Topic11\", \"Topic11\", \"Topic11\", \"Topic11\", \"Topic11\", \"Topic11\", \"Topic11\", \"Topic11\", \"Topic11\", \"Topic11\", \"Topic12\", \"Topic12\", \"Topic12\", \"Topic12\", \"Topic12\", \"Topic12\", \"Topic12\", \"Topic12\", \"Topic12\", \"Topic12\", \"Topic12\", \"Topic12\", \"Topic12\", \"Topic12\", \"Topic12\", \"Topic12\", \"Topic12\", \"Topic12\", \"Topic12\", \"Topic12\", \"Topic12\", \"Topic12\", \"Topic12\", \"Topic12\", \"Topic12\", \"Topic12\", \"Topic12\", \"Topic12\", \"Topic12\", \"Topic12\", \"Topic12\", \"Topic13\", \"Topic13\", \"Topic13\", \"Topic13\", \"Topic13\", \"Topic13\", \"Topic13\", \"Topic13\", \"Topic13\", \"Topic13\", \"Topic13\", \"Topic13\", \"Topic13\", \"Topic13\", \"Topic13\", \"Topic13\", \"Topic13\", \"Topic13\", \"Topic13\", \"Topic13\", \"Topic13\", \"Topic13\", \"Topic13\", \"Topic13\", \"Topic13\", \"Topic13\", \"Topic13\", \"Topic13\", \"Topic13\", \"Topic13\", \"Topic13\", \"Topic13\", \"Topic14\", \"Topic14\", \"Topic14\", \"Topic14\", \"Topic14\", \"Topic14\", \"Topic14\", \"Topic14\", \"Topic14\", \"Topic14\", \"Topic14\", \"Topic14\", \"Topic14\", \"Topic14\", \"Topic14\", \"Topic14\", \"Topic14\", \"Topic14\", \"Topic14\", \"Topic14\", \"Topic14\", \"Topic14\", \"Topic14\", \"Topic14\", \"Topic14\", \"Topic14\", \"Topic14\", \"Topic14\", \"Topic14\", \"Topic14\", \"Topic14\", \"Topic14\", \"Topic14\", \"Topic14\", \"Topic15\", \"Topic15\", \"Topic15\", \"Topic15\", \"Topic15\", \"Topic15\", \"Topic15\", \"Topic15\", \"Topic15\", \"Topic15\", \"Topic15\", \"Topic15\", \"Topic15\", \"Topic15\", \"Topic15\", \"Topic15\", \"Topic15\", \"Topic15\", \"Topic15\", \"Topic15\", \"Topic15\", \"Topic15\", \"Topic15\", \"Topic15\", \"Topic15\", \"Topic15\", \"Topic15\", \"Topic15\", \"Topic15\", \"Topic15\", \"Topic15\", \"Topic15\", \"Topic15\", \"Topic16\", \"Topic16\", \"Topic16\", \"Topic16\", \"Topic16\", \"Topic16\", \"Topic16\", \"Topic16\", \"Topic16\", \"Topic16\", \"Topic16\", \"Topic16\", \"Topic16\", \"Topic16\", \"Topic16\", \"Topic16\", \"Topic16\", \"Topic16\", \"Topic16\", \"Topic16\", \"Topic16\", \"Topic16\", \"Topic16\", \"Topic16\", \"Topic16\", \"Topic16\", \"Topic16\", \"Topic16\", \"Topic16\", \"Topic16\", \"Topic16\", \"Topic16\"], \"logprob\": [30.0, 29.0, 28.0, 27.0, 26.0, 25.0, 24.0, 23.0, 22.0, 21.0, 20.0, 19.0, 18.0, 17.0, 16.0, 15.0, 14.0, 13.0, 12.0, 11.0, 10.0, 9.0, 8.0, 7.0, 6.0, 5.0, 4.0, 3.0, 2.0, 1.0, -1.944, -0.7852, -3.0174, -3.239, -3.349, -3.9233, -4.3325, -4.355, -4.3783, -4.7876, -5.2912, -5.3502, -4.1417, -6.078, -6.2129, -6.2138, -6.8097, -6.8097, -6.8097, -6.8097, -6.8097, -6.8097, -6.8102, -6.8102, -8.4151, -8.4478, -8.4572, -8.4495, -8.466, -8.4699, -8.4615, -2.0705, -2.7964, -2.8497, -3.2194, -3.3564, -3.4408, -3.4493, -3.6314, -3.6662, -3.7218, -4.1036, -4.1176, -4.1894, -4.2145, -4.3027, -2.683, -5.0605, -2.365, -5.27, -3.5835, -5.9261, -4.0706, -6.2883, -6.523, -6.523, -6.5231, -6.5231, -4.6783, -8.0847, -8.1775, -8.1691, -2.4072, -3.0005, -3.2006, -3.3307, -3.3426, -3.4089, -3.4224, -3.5437, -3.7393, -3.7532, -3.86, -3.9009, -4.1592, -4.2291, -4.3219, -4.3752, -4.3752, -3.0273, -4.4669, -4.566, -4.6005, -4.652, -4.7022, -4.7087, -4.9232, -5.1338, -5.134, -3.5769, -5.6498, -6.3813, -3.0203, -4.5179, -1.9223, -2.3846, -2.6304, -2.7563, -3.3093, -3.3865, -3.4942, -3.6285, -3.6303, -3.6456, -3.8232, -4.1403, -4.2418, -4.8377, -5.0481, -5.0481, -5.0481, -5.0481, -5.0481, -5.0481, -5.0495, -5.5654, -5.5655, -4.7811, -4.0309, -6.2967, -6.2968, -6.2968, -6.2968, -6.2968, -4.4229, -1.6267, -2.0456, -2.2756, -2.2961, -2.8217, -3.0102, -3.1188, -3.7195, -3.9394, -4.3037, -4.4939, -5.0319, -5.3017, -5.0746, -6.5491, -6.5491, -6.5491, -6.5494, -6.5496, -6.5496, -6.5501, -8.1446, -8.164, -8.1893, -8.1843, -8.1965, -8.2039, -8.2046, -8.2046, -8.2046, -8.2046, -1.8769, -1.9889, -2.1521, -2.3643, -2.6038, -3.2631, -3.6973, -3.9202, -4.2013, -4.3419, -5.0034, -6.2563, -6.2563, -6.2564, -6.2564, -6.257, -7.8825, -7.8825, -7.8825, -7.8825, -7.8825, -7.8825, -7.904, -7.904, -7.904, -7.904, -7.9071, -7.904, -7.917, -7.917, -7.9089, -7.917, -1.6484, -3.0001, -3.1881, -3.3239, -3.3674, -3.6843, -3.9215, -3.9215, -1.9684, -4.0685, -4.0984, -4.1981, -4.2226, -4.3361, -4.5779, -3.9956, -4.7976, -5.0018, -5.0018, -5.6537, -6.2503, -6.2503, -6.2503, -6.2503, -6.2503, -6.2503, -6.2505, -6.2505, -7.8589, -7.8995, -2.2129, -2.2647, -2.269, -2.2824, -3.1343, -3.2247, -3.6112, -3.9056, -4.0551, -4.2272, -4.2321, -4.2504, -4.2509, -4.2532, -4.435, -4.9242, -5.3291, -3.2756, -5.7897, -5.7897, -6.3865, -6.3865, -6.3865, -6.3866, -6.3866, -5.0002, -3.9095, -7.8879, -7.9961, -8.0292, -2.1494, -3.3099, -3.4031, -3.4457, -3.5151, -3.7369, -3.7954, -3.8003, -4.1219, -4.1785, -4.392, -4.3921, -4.3932, -4.5981, -2.9234, -4.8698, -5.2542, -5.2543, -5.8508, -5.8508, -5.8508, -5.8508, -5.8508, -5.8508, -5.8508, -5.8508, -5.8508, -5.8508, -5.8508, -5.8508, -3.0136, -2.2977, -2.4575, -3.0233, -3.4157, -3.4623, -3.5401, -3.8123, -3.8208, -4.2076, -4.3872, -4.5915, -4.5915, -4.5915, -4.6023, -4.6023, -4.6911, -5.2433, -2.9119, -4.2577, -5.8398, -5.8401, -5.8401, -5.8402, -5.8402, -5.8406, -5.8401, -7.4607, -7.5023, -7.5023, -7.5028, -1.4362, -2.4532, -2.9049, -3.0466, -3.1502, -3.9247, -3.9929, -4.0931, -4.2293, -4.4908, -4.4908, -4.492, -4.8924, -5.2185, -5.9497, -5.9497, -5.9497, -5.9498, -7.576, -7.576, -7.576, -7.5832, -7.5832, -7.576, -7.5916, -7.5916, -7.5916, -7.5942, -7.5942, -7.6038, -2.1731, -2.2572, -2.4262, -3.1379, -3.3545, -3.4487, -3.4816, -3.8039, -3.8827, -4.0709, -4.187, -4.4064, -5.8592, -5.8593, -5.8593, -5.8593, -5.8593, -5.8593, -5.8602, -5.8593, -7.3487, -7.3487, -7.3487, -7.4914, -7.4914, -7.4914, -7.4987, -7.5033, -7.5033, -7.5064, -7.5064, -1.4505, -2.3924, -2.4058, -2.4058, -3.179, -3.4294, -3.7763, -3.9772, -4.1757, -4.199, -4.284, -4.3578, -4.4575, -4.4575, -4.6927, -5.2626, -5.5223, -6.5099, -6.5099, -6.5103, -8.1493, -8.1493, -8.1505, -8.1505, -8.1695, -8.1695, -8.1717, -8.1886, -8.1884, -8.1879, -3.1008, -8.1879, -1.93, -2.508, -2.5491, -3.1256, -4.2078, -2.526, -4.6046, -5.6665, -7.316, -7.316, -7.3295, -7.3295, -7.3314, -7.3295, -7.333, -7.336, -7.3404, -7.3404, -7.342, -7.3404, -7.3404, -7.3404, -7.3462, -7.333, -7.3459, -7.3482, -7.3482, -7.3482, -7.3459, -7.347, -7.3408, -7.347, -7.347, -7.3421, -2.1927, -2.6031, -2.9796, -3.029, -3.2547, -4.0664, -4.0664, -5.525, -5.525, -5.5254, -5.5257, -5.5257, -7.1841, -7.1863, -7.1973, -7.1972, -7.1972, -7.1972, -7.2016, -7.2016, -7.2016, -7.2016, -7.2043, -7.2043, -7.2043, -7.207, -7.207, -7.2054, -7.204, -7.2016, -7.2054, -7.2054, -7.2054, -2.2036, -2.8778, -3.466, -4.1278, -4.1292, -3.472, -5.3761, -5.3763, -5.3768, -7.0073, -7.0073, -7.0189, -7.0435, -7.0435, -7.0472, -7.0472, -7.0472, -7.0472, -7.0472, -7.053, -7.0533, -7.0533, -7.0533, -7.055, -7.055, -7.055, -7.055, -7.0566, -7.0566, -7.055, -7.055, -7.055], \"loglift\": [30.0, 29.0, 28.0, 27.0, 26.0, 25.0, 24.0, 23.0, 22.0, 21.0, 20.0, 19.0, 18.0, 17.0, 16.0, 15.0, 14.0, 13.0, 12.0, 11.0, 10.0, 9.0, 8.0, 7.0, 6.0, 5.0, 4.0, 3.0, 2.0, 1.0, 2.0374, 2.0182, 2.0031, 1.9905, 1.9832, 1.9304, 1.8727, 1.8688, 1.8648, 1.7807, 1.6345, 1.6138, 1.5353, 1.2901, 1.2157, 1.2151, 0.8346, 0.8346, 0.8345, 0.8345, 0.8345, 0.8345, 0.8342, 0.8342, -0.5021, -0.5352, -0.5409, -0.5448, -0.5491, -0.5535, -0.5652, 2.1273, 2.104, 2.1016, 2.0808, 2.0711, 2.0645, 2.0638, 2.0475, 2.044, 2.0383, 1.9905, 1.9884, 1.9774, 1.9734, 1.9586, 1.8856, 1.7786, 1.7603, 1.7088, 1.5135, 1.4232, 1.2565, 1.22, 1.0714, 1.0714, 1.0713, 1.0713, 0.9987, -0.1884, -0.2613, -0.2616, 2.26, 2.2317, 2.2181, 2.2077, 2.2067, 2.2008, 2.1996, 2.1879, 2.166, 2.1642, 2.1504, 2.1448, 2.1043, 2.0917, 2.0739, 2.0631, 2.0631, 2.0468, 2.0433, 2.0204, 2.0119, 1.999, 1.9858, 1.9841, 1.9219, 1.8513, 1.8513, 1.7092, 1.6343, 1.2144, 1.105, 0.0507, 2.3845, 2.37, 2.3593, 2.3528, 2.3129, 2.3055, 2.2943, 2.2788, 2.2786, 2.2767, 2.2528, 2.2001, 2.1802, 2.0258, 1.9538, 1.9538, 1.9538, 1.9538, 1.9538, 1.9538, 1.9533, 1.7323, 1.7323, 1.578, 1.3743, 1.3069, 1.3068, 1.3068, 1.3068, 1.3068, 0.6512, 2.4073, 2.3974, 2.3899, 2.3892, 2.364, 2.3515, 2.3432, 2.2793, 2.2461, 2.176, 2.1305, 1.9628, 1.854, 1.5181, 1.1206, 1.1206, 1.1206, 1.1204, 1.1203, 1.1203, 1.1199, -0.2333, -0.2592, -0.2732, -0.2752, -0.2808, -0.2875, -0.2887, -0.2887, -0.2887, -0.2923, 2.7162, 2.7122, 2.7056, 2.6953, 2.6808, 2.6199, 2.5555, 2.5122, 2.4457, 2.4068, 2.1656, 1.4202, 1.4202, 1.4201, 1.4201, 1.4197, 0.0319, 0.0319, 0.0307, 0.0299, 0.028, 0.0249, 0.011, 0.011, 0.011, 0.0098, 0.0049, 0.0032, -0.0014, -0.0014, -0.0089, -0.0014, 2.7884, 2.7088, 2.6877, 2.6701, 2.664, 2.6122, 2.5637, 2.5637, 2.5389, 2.5287, 2.5211, 2.4946, 2.4878, 2.4545, 2.3745, 2.3414, 2.2902, 2.2014, 2.2014, 1.8487, 1.439, 1.439, 1.439, 1.439, 1.439, 1.439, 1.4389, 1.4389, 0.0508, 0.0141, 2.914, 2.9109, 2.9107, 2.9098, 2.8291, 2.8164, 2.7497, 2.683, 2.6431, 2.5915, 2.5899, 2.5841, 2.5839, 2.5831, 2.5206, 2.3134, 2.0971, 2.0105, 1.8032, 1.8032, 1.3564, 1.3564, 1.3564, 1.3563, 1.3563, 1.3368, 0.6591, 0.0176, -0.0805, -0.1152, 2.9742, 2.8569, 2.8413, 2.8338, 2.8209, 2.7746, 2.761, 2.7598, 2.6731, 2.6557, 2.5836, 2.5835, 2.5831, 2.504, 2.4817, 2.3834, 2.1814, 2.1813, 1.7977, 1.7977, 1.7977, 1.7977, 1.7977, 1.7977, 1.7977, 1.7977, 1.7977, 1.7977, 1.7977, 1.7977, 1.4938, 2.9824, 2.971, 2.914, 2.8542, 2.8457, 2.8308, 2.7708, 2.7687, 2.6588, 2.5969, 2.5174, 2.5174, 2.5174, 2.5129, 2.5129, 2.475, 2.1952, 2.185, 2.1014, 1.8105, 1.8103, 1.8103, 1.8103, 1.8103, 1.8099, 1.6056, 0.4357, 0.4151, 0.4151, 0.4146, 3.0317, 2.9806, 2.9369, 2.9192, 2.9048, 2.7477, 2.7289, 2.6995, 2.6561, 2.561, 2.561, 2.5606, 2.3831, 2.2092, 1.7278, 1.7278, 1.7278, 1.7277, 0.3392, 0.3392, 0.3371, 0.3325, 0.3325, 0.3311, 0.3246, 0.3246, 0.323, 0.3211, 0.3211, 0.3103, 3.0066, 3.0013, 2.9894, 2.9132, 2.879, 2.8621, 2.8559, 2.7855, 2.7654, 2.7127, 2.6765, 2.5999, 1.7997, 1.7997, 1.7997, 1.7997, 1.7997, 1.7997, 1.799, 1.5864, 0.5544, 0.5544, 0.5544, 0.4215, 0.4215, 0.4215, 0.4171, 0.4119, 0.4119, 0.41, 0.4084, 3.13, 3.0777, 3.0766, 3.0766, 2.9824, 2.936, 2.8545, 2.7968, 2.7314, 2.7231, 2.6919, 2.6635, 2.623, 2.623, 2.5178, 2.2059, 2.0378, 1.2775, 1.2775, 1.2772, -0.2317, -0.2317, -0.2338, -0.2352, -0.2554, -0.2564, -0.2572, -0.2703, -0.2708, -0.2717, -0.2974, -0.2747, 3.3712, 3.3188, 3.3139, 3.2239, 2.8995, 2.8011, 2.7138, 2.0311, 0.601, 0.601, 0.5874, 0.5874, 0.5856, 0.5853, 0.585, 0.5815, 0.5762, 0.5762, 0.5748, 0.5744, 0.5732, 0.5729, 0.5725, 0.5718, 0.5703, 0.5694, 0.5694, 0.5694, 0.569, 0.569, 0.569, 0.569, 0.569, 0.5663, 3.6411, 3.5828, 3.5086, 3.4971, 3.4389, 3.1386, 3.1386, 2.2064, 2.2064, 2.2061, 2.2059, 1.9767, 0.7299, 0.7288, 0.7206, 0.7202, 0.7202, 0.7202, 0.7159, 0.7159, 0.7159, 0.7153, 0.7116, 0.7116, 0.7116, 0.7106, 0.7106, 0.7094, 0.7083, 0.7082, 0.7061, 0.7051, 0.6994, 3.9639, 3.8148, 3.611, 3.2823, 3.2815, 3.1206, 2.3912, 2.391, 2.3907, 0.9097, 0.9052, 0.8921, 0.8723, 0.8723, 0.8695, 0.8695, 0.8695, 0.8695, 0.8694, 0.8652, 0.8626, 0.8626, 0.8626, 0.8626, 0.8626, 0.8626, 0.862, 0.8611, 0.8611, 0.8601, 0.8601, 0.8591]}, \"token.table\": {\"Topic\": [1, 3, 4, 15, 2, 1, 4, 13, 11, 8, 7, 7, 8, 3, 4, 2, 7, 12, 13, 3, 16, 15, 10, 8, 4, 1, 7, 5, 16, 12, 5, 10, 4, 1, 7, 8, 6, 9, 2, 12, 4, 13, 8, 15, 7, 1, 10, 2, 2, 8, 4, 2, 3, 1, 5, 11, 12, 13, 7, 6, 11, 13, 6, 2, 2, 3, 2, 4, 11, 2, 4, 16, 1, 9, 15, 8, 5, 11, 5, 2, 9, 3, 10, 10, 3, 4, 7, 8, 3, 9, 11, 8, 6, 8, 9, 1, 4, 2, 4, 3, 9, 4, 7, 3, 3, 8, 12, 4, 7, 12, 9, 2, 3, 4, 2, 12, 13, 9, 3, 10, 7, 8, 15, 8, 1, 2, 1, 2, 3, 8, 14, 4, 9, 7, 16, 3, 4, 9, 1, 13, 10, 13, 5, 2, 3, 3, 1, 2, 6, 2, 12, 4, 2, 10, 7, 13, 11, 5, 7, 12, 4, 7, 9, 10, 3, 11, 11, 3, 10, 3, 4, 4, 9, 3, 4, 6, 10, 5, 5, 15, 13, 6, 9, 8, 13, 4, 4, 15, 9, 9, 2, 13, 7, 4, 7, 5, 12, 3, 8, 3, 14, 10, 4, 6, 4, 10, 13, 11, 1, 14, 5, 2, 10, 6, 3, 4, 11, 8, 14, 2, 14, 3, 3, 3, 8, 3, 1, 1, 2, 16, 2, 1, 12, 11, 5, 4, 14, 14, 3, 11, 10, 3, 8, 12, 2, 4, 13, 7, 7, 16, 3, 2, 5, 9, 4, 6, 9, 11, 9, 7, 9, 2, 3, 8, 10, 10, 10, 10, 6, 13, 13, 5, 13, 13], \"Freq\": [0.5212286582781905, 0.8335032675013221, 0.7234909524010315, 0.796599323999617, 0.7839567487518118, 0.9171613316737368, 0.6597067278986105, 0.6674137199009019, 0.5532462526931706, 0.5524526753916952, 0.6879528673968256, 0.5852129603719508, 0.9311279391004321, 0.7345078767686001, 0.8480719582315298, 0.5996861661767594, 0.8203803683008642, 0.7438676479868883, 0.4452170194689663, 0.7108378659302136, 0.5439198691079541, 0.864891913533187, 0.8991871675124634, 0.9466495687796465, 0.6597067278986105, 0.6698205358973418, 0.7234189331435474, 0.4800850129370763, 0.24004250646853814, 0.9348757302614985, 0.9783410215624776, 0.4259082470176274, 0.6597067278986105, 0.5539548074540517, 0.557654011253722, 0.18588467041790735, 0.9750151524426341, 0.9391426029059082, 0.8663362004144123, 0.8380034775769126, 0.4858305292245886, 0.7481092755587132, 0.942259967429482, 0.7990185260948147, 0.810052214501313, 0.9871506634497466, 0.9044026890819287, 0.8900466198268203, 0.8983700726679129, 0.8002451024392097, 0.8595041765137577, 0.6536465245240456, 0.8228161042765355, 0.6959914354024797, 0.9405247261462025, 0.6433059383255831, 0.7611925163316546, 0.7369984389731609, 0.596187563291838, 0.8263994940838313, 0.9040002961199798, 0.7043083563091034, 0.9739690770457075, 0.8852579916716962, 0.5115716282986519, 0.8904051771787088, 0.7063784615004638, 0.659679839018563, 0.9749400912570916, 0.9299974918159277, 0.966438635047378, 0.7958149698260244, 0.7027454585851346, 0.8472729221108865, 0.6737529464353121, 0.934847860844004, 0.4214780844501033, 0.759854847215776, 0.8575670952286104, 0.6536821556664749, 0.7428142291868325, 0.8635688025834721, 0.4022210183500085, 0.9028764187566408, 0.9093788352274595, 0.8094940493017635, 0.8216212188499064, 0.6038451947220183, 0.97995386845037, 0.39952335491355545, 0.9063247798284703, 0.8955381733475787, 0.427143103708583, 0.8296560520295674, 0.6944685483205804, 0.9468386545017556, 0.9763407268489114, 0.8007017479961624, 0.8591278071836037, 0.8553353836101996, 0.6112148272086855, 0.8593372882347021, 0.9728653482523395, 0.9131317851635078, 0.8983096527545549, 0.6018335153187324, 0.7177310027494849, 0.8777976290185043, 0.3938391224161727, 0.7243277247513635, 0.5877369996824716, 0.9396168583870231, 0.4792714801160953, 0.7228530904497815, 0.6142472487818369, 0.838074635064483, 0.39096058156950325, 0.7041072220833374, 0.7316322603679327, 0.7100829842356801, 0.9233578243704409, 0.4574770731881305, 0.4428010829474296, 0.7172538400377966, 0.8145946700154417, 0.6536821556664749, 0.8461749000242069, 0.9723116235996895, 0.9200128142150297, 0.6125675921074998, 0.925694540163314, 0.36604039264803534, 0.5856646282368565, 0.8925590925917185, 0.5436046390571457, 0.8228161042765355, 0.7461402077557722, 0.6639812733432573, 0.960692685497916, 0.03256585374569207, 0.6312319635927106, 0.779733656828923, 0.9622630286833169, 0.6717658221299024, 0.30534810096813747, 0.6544741879680916, 0.9528169990172028, 0.874764532398513, 0.9776134480546459, 0.9227815208845067, 0.7260126518590968, 0.8467670537410973, 0.8616767899829965, 0.7132486070917269, 0.7397587492386669, 0.764953266769566, 0.8977094306334613, 0.9277681562367932, 0.44201388263565244, 0.8876833665188132, 0.7228530904497815, 0.795884160313248, 0.7045986661173608, 0.8724937703163009, 0.8841912318335305, 0.8412727962740336, 0.7799163755309719, 0.7959384139507028, 0.40222283841070017, 0.7886203930186545, 0.15772407860373092, 0.7228530904497815, 0.46468982532687597, 0.6179844722046928, 0.6597067278986105, 0.8543802530203173, 0.8691334517792656, 0.798745317404212, 0.9789062996329835, 0.4427949878391538, 0.631647518209197, 0.8417244450195414, 0.557661995976654, 0.611600681547146, 0.39096058156950325, 0.7228530904497815, 0.7228530904497815, 0.8990794270985076, 0.6970402745377325, 0.5576871452885634, 0.8970601932962624, 0.9489753734893968, 0.44201388263565244, 0.7228530904497815, 0.8623104961334463, 0.7434014871103551, 0.9483500871938539, 0.5848891476101576, 0.3899260984067717, 0.7885990699951608, 0.4959733360501712, 0.7178500705588995, 0.48584948363064806, 0.9327145256254235, 0.3800932969690785, 0.3800932969690785, 0.9374196857726359, 0.8193695432568757, 0.8299839047568704, 0.4015847934701256, 0.7176607868072128, 0.5378964662245623, 0.4303171729796499, 0.8180074569383704, 0.8449830203365727, 0.6294205694343412, 0.47516683363393986, 0.6113688159257329, 0.923774016018677, 0.4062635011725627, 0.5416846682300837, 0.9237488728519646, 0.9300983273016997, 0.7633326248840161, 0.7615110380408592, 0.710933313920111, 0.5537324535409156, 0.5764616215062928, 0.2882308107531464, 0.7844764272475511, 0.8939390554599439, 0.921218142242238, 0.6293789852702295, 0.7598543117135753, 0.9298869646116604, 0.909496781510037, 0.7529290621303747, 0.8928148672697759, 0.7155660016357106, 0.7603815234785819, 0.4022210183500085, 0.7921848606916574, 0.6901141345481098, 0.5810490157240112, 0.9849970955979055, 0.9256314477681343, 0.9489753734893968, 0.8926719072843727, 0.8623046425487987, 0.7791568658630852, 0.8046088299502783, 0.6536465245240456, 0.9112282694632358, 0.7040686870936119, 0.9549214600660184, 0.9085169454376973, 0.8774622185267525, 0.5863328513605942, 0.7840271858279214, 0.7457053023783664, 0.20879748466594258, 0.7611140113145982, 0.09513925141432478, 0.09513925141432478, 0.76918487558139, 0.40478048710177933, 0.5592846758137253, 0.40478048710177933, 0.7602869027372949, 0.9628248296433117, 0.6574441803929681, 0.984810215689848, 0.5762652088015459, 0.5755371037785643], \"Term\": [\"able\", \"actually\", \"advice\", \"almost\", \"also\", \"always\", \"alya\", \"amazing\", \"annoying\", \"anymore\", \"appreciate\", \"arrogant\", \"asshole\", \"audience\", \"autism\", \"available\", \"back\", \"bad\", \"ball\", \"bday\", \"beautiful\", \"believe\", \"birthday\", \"blindness\", \"board\", \"boring\", \"boy\", \"break\", \"break\", \"brother\", \"button\", \"buy\", \"card\", \"care\", \"cause\", \"cause\", \"change\", \"channel\", \"check\", \"child\", \"click\", \"clicked\", \"color\", \"come\", \"comment\", \"congrat\", \"congratulation\", \"content\", \"cool\", \"damn\", \"day\", \"dear\", \"description\", \"destroy\", \"diamond\", \"dickhead\", \"die\", \"dislike\", \"diss\", \"do\", \"drive\", \"driving\", \"drug\", \"dude\", \"edit\", \"else\", \"enough\", \"entertain\", \"evan\", \"even\", \"ever\", \"everyday\", \"expect\", \"face\", \"faggot\", \"fake\", \"fall\", \"famous\", \"fast\", \"feedback\", \"feel\", \"first\", \"flog\", \"follow\", \"forever\", \"forget\", \"freak\", \"friend\", \"fuck\", \"fucktard\", \"funny\", \"get\", \"girl\", \"give\", \"glad\", \"go\", \"good\", \"great\", \"grow\", \"guy\", \"hair\", \"happen\", \"happy\", \"hard\", \"hate\", \"hater\", \"hear\", \"help\", \"homeless\", \"honestly\", \"hope\", \"hour\", \"humble\", \"humor\", \"idea\", \"idiot\", \"indeed\", \"inspire\", \"instead\", \"jealous\", \"join\", \"joke\", \"jump\", \"keep\", \"kill\", \"kind\", \"kinda\", \"know\", \"laugh\", \"leave\", \"let\", \"life\", \"life\", \"like\", \"line\", \"link\", \"literally\", \"live\", \"logan\", \"logan\", \"login\", \"look\", \"love\", \"make\", \"make\", \"manage\", \"maverick\", \"maybe\", \"mean\", \"merch\", \"midget\", \"miss\", \"money\", \"month\", \"movie\", \"much\", \"music\", \"need\", \"negative\", \"never\", \"nickelodeon\", \"ohhhhhhhh\", \"old\", \"open\", \"parent\", \"parking\", \"part\", \"pathetic\", \"pawl\", \"people\", \"people\", \"personify\", \"pet\", \"pewdiepie\", \"picture\", \"piece\", \"piss\", \"plate\", \"play\", \"point\", \"pomeranian\", \"pretty\", \"privileged\", \"probably\", \"productive\", \"rampant\", \"rapid\", \"re\", \"real\", \"realize\", \"really\", \"remember\", \"remove\", \"ridiculous\", \"right\", \"ruin\", \"s\", \"say\", \"say\", \"school\", \"second\", \"see\", \"seem\", \"shit\", \"show\", \"show\", \"single\", \"song\", \"sorry\", \"special\", \"stand\", \"start\", \"start\", \"still\", \"stop\", \"straight\", \"stream\", \"stupid\", \"sub\", \"subscribe\", \"subscribe\", \"subscriber\", \"suck\", \"sure\", \"take\", \"talk\", \"technically\", \"tell\", \"tell\", \"thank\", \"thing\", \"think\", \"throw\", \"thumbnail\", \"time\", \"title\", \"today\", \"trend\", \"trump\", \"try\", \"twelfth\", \"understand\", \"use\", \"ve\", \"video\", \"vlog\", \"vlogaversery\", \"vlogge\", \"vlogging\", \"vlogiversary\", \"wait\", \"wanna\", \"want\", \"waste\", \"watch\", \"well\", \"whole\", \"word\", \"world\", \"year\", \"year\", \"youtube\", \"youtube\", \"youtube\", \"\\u2584\", \"\\u2588\", \"\\u258c\", \"\\u2591\", \"\\u2764\", \"\\ufe0f\", \"\\ud83c\\udffb\", \"\\ud83d\\ude02\", \"\\ud83d\\ude0d\", \"\\ud83d\\ude18\"]}, \"R\": 30, \"lambda.step\": 0.01, \"plot.opts\": {\"xlab\": \"PC1\", \"ylab\": \"PC2\"}, \"topic.order\": [11, 4, 13, 6, 7, 5, 1, 16, 12, 15, 9, 2, 3, 14, 10, 8]};\n",
       "\n",
       "function LDAvis_load_lib(url, callback){\n",
       "  var s = document.createElement('script');\n",
       "  s.src = url;\n",
       "  s.async = true;\n",
       "  s.onreadystatechange = s.onload = callback;\n",
       "  s.onerror = function(){console.warn(\"failed to load library \" + url);};\n",
       "  document.getElementsByTagName(\"head\")[0].appendChild(s);\n",
       "}\n",
       "\n",
       "if(typeof(LDAvis) !== \"undefined\"){\n",
       "   // already loaded: just create the visualization\n",
       "   !function(LDAvis){\n",
       "       new LDAvis(\"#\" + \"ldavis_el207628172583140964751884791\", ldavis_el207628172583140964751884791_data);\n",
       "   }(LDAvis);\n",
       "}else if(typeof define === \"function\" && define.amd){\n",
       "   // require.js is available: use it to load d3/LDAvis\n",
       "   require.config({paths: {d3: \"https://d3js.org/d3.v5\"}});\n",
       "   require([\"d3\"], function(d3){\n",
       "      window.d3 = d3;\n",
       "      LDAvis_load_lib(\"https://cdn.jsdelivr.net/gh/bmabey/pyLDAvis@3.3.1/pyLDAvis/js/ldavis.v3.0.0.js\", function(){\n",
       "        new LDAvis(\"#\" + \"ldavis_el207628172583140964751884791\", ldavis_el207628172583140964751884791_data);\n",
       "      });\n",
       "    });\n",
       "}else{\n",
       "    // require.js not available: dynamically load d3 & LDAvis\n",
       "    LDAvis_load_lib(\"https://d3js.org/d3.v5.js\", function(){\n",
       "         LDAvis_load_lib(\"https://cdn.jsdelivr.net/gh/bmabey/pyLDAvis@3.3.1/pyLDAvis/js/ldavis.v3.0.0.js\", function(){\n",
       "                 new LDAvis(\"#\" + \"ldavis_el207628172583140964751884791\", ldavis_el207628172583140964751884791_data);\n",
       "            })\n",
       "         });\n",
       "}\n",
       "</script>"
      ],
      "text/plain": [
       "PreparedData(topic_coordinates=              x         y  topics  cluster       Freq\n",
       "topic                                                \n",
       "10    -0.388934  0.141348       1        1  12.801454\n",
       "3      0.242481 -0.252919       2        1  11.652102\n",
       "12     0.296921 -0.091524       3        1  10.066599\n",
       "5      0.288867  0.114593       4        1   8.986096\n",
       "6      0.204114  0.317242       5        1   8.832306\n",
       "4      0.045031 -0.315943       6        1   6.389642\n",
       "0     -0.279855 -0.130037       7        1   5.974037\n",
       "15    -0.155959 -0.302351       8        1   5.107671\n",
       "11    -0.161338 -0.020997       9        1   4.818726\n",
       "14    -0.128313  0.139650      10        1   4.730438\n",
       "8      0.151269  0.023292      11        1   4.679813\n",
       "1     -0.016824 -0.140824      12        1   4.647963\n",
       "2     -0.096877  0.353816      13        1   4.221403\n",
       "13     0.029309  0.136783      14        1   3.198204\n",
       "9     -0.032947  0.043968      15        1   2.311748\n",
       "7      0.003055 -0.016095      16        1   1.581797, topic_info=          Term        Freq       Total Category  logprob  loglift\n",
       "0        logan  184.000000  184.000000  Default  30.0000  30.0000\n",
       "256          😂   53.000000   53.000000  Default  29.0000  29.0000\n",
       "212    congrat   56.000000   56.000000  Default  28.0000  28.0000\n",
       "28        evan   34.000000   34.000000  Default  27.0000  27.0000\n",
       "12       happy   35.000000   35.000000  Default  26.0000  26.0000\n",
       "..         ...         ...         ...      ...      ...      ...\n",
       "588  classmate    0.041438    1.107329  Topic16  -7.0566   0.8611\n",
       "589          😒    0.041438    1.107329  Topic16  -7.0566   0.8611\n",
       "476       dent    0.041501    1.110139  Topic16  -7.0550   0.8601\n",
       "477   universe    0.041501    1.110139  Topic16  -7.0550   0.8601\n",
       "631      reach    0.041501    1.111198  Topic16  -7.0550   0.8591\n",
       "\n",
       "[531 rows x 6 columns], token_table=      Topic      Freq      Term\n",
       "term                           \n",
       "112       1  0.521229      able\n",
       "167       3  0.833503  actually\n",
       "51        4  0.723491    advice\n",
       "58       15  0.796599    almost\n",
       "86        2  0.783957      also\n",
       "...     ...       ...       ...\n",
       "10       13  0.962825         ️\n",
       "11       13  0.657444         🏻\n",
       "256       5  0.984810         😂\n",
       "81       13  0.576265         😍\n",
       "617      13  0.575537         😘\n",
       "\n",
       "[274 rows x 3 columns], R=30, lambda_step=0.01, plot_opts={'xlab': 'PC1', 'ylab': 'PC2'}, topic_order=[11, 4, 13, 6, 7, 5, 1, 16, 12, 15, 9, 2, 3, 14, 10, 8])"
      ]
     },
     "execution_count": 44,
     "metadata": {},
     "output_type": "execute_result"
    }
   ],
   "source": [
    "vis"
   ]
  },
  {
   "cell_type": "code",
   "execution_count": 45,
   "id": "106a1e88",
   "metadata": {},
   "outputs": [
    {
     "name": "stdout",
     "output_type": "stream",
     "text": [
      "\n",
      "Coherence Score:  0.4777861497348158\n"
     ]
    }
   ],
   "source": [
    "from gensim.models.coherencemodel import CoherenceModel\n",
    "coherence_model_lda = CoherenceModel(model=lda_model, texts=tokenized_comments, dictionary=dictionary, coherence='c_v')\n",
    "coherence_lda = coherence_model_lda.get_coherence()\n",
    "print('\\nCoherence Score: ', coherence_lda)\n"
   ]
  },
  {
   "cell_type": "code",
   "execution_count": 46,
   "id": "1c200203",
   "metadata": {},
   "outputs": [
    {
     "name": "stdout",
     "output_type": "stream",
     "text": [
      "\n",
      "Coherence Score:  0.4777861497348158\n"
     ]
    }
   ],
   "source": [
    "coherence_model_lda = CoherenceModel(model=lda_model, texts=tokenized_comments, dictionary=dictionary, coherence='c_v')\n",
    "coherence_lda = coherence_model_lda.get_coherence()\n",
    "print('\\nCoherence Score: ', coherence_lda)"
   ]
  },
  {
   "cell_type": "code",
   "execution_count": 47,
   "id": "638df8df",
   "metadata": {},
   "outputs": [],
   "source": [
    "def compute_coherence_values(dictionary, corpus, texts, limit, start=2, step=3):\n",
    "    \"\"\"\n",
    "    Compute c_v coherence for various number of topics\n",
    "    \"\"\"\n",
    "    coherence_values = []\n",
    "    model_list = []\n",
    "    for num_topics in range(start, limit, step):\n",
    "        model = gensim.models.ldamodel.LdaModel(corpus=corpus, num_topics=num_topics, id2word=dictionary)\n",
    "        model_list.append(model)\n",
    "        coherencemodel = CoherenceModel(model=model, texts=texts, dictionary=dictionary, coherence='c_v')\n",
    "        coherence_values.append(coherencemodel.get_coherence())\n",
    "\n",
    "    return model_list, coherence_values"
   ]
  },
  {
   "cell_type": "code",
   "execution_count": 48,
   "id": "8d86ab3c",
   "metadata": {},
   "outputs": [],
   "source": [
    "model_list, coherence_values = compute_coherence_values(dictionary=dictionary, corpus=corpus,\n",
    "                                                        texts=tokenized_comments, start=2, limit=50, step=1)"
   ]
  },
  {
   "cell_type": "code",
   "execution_count": 49,
   "id": "f5182451",
   "metadata": {},
   "outputs": [],
   "source": [
    "import matplotlib.pyplot as plt"
   ]
  },
  {
   "cell_type": "code",
   "execution_count": 50,
   "id": "ed546f36",
   "metadata": {},
   "outputs": [
    {
     "data": {
      "image/png": "[encoded data removed]",
      "text/plain": [
       "<Figure size 432x288 with 1 Axes>"
      ]
     },
     "metadata": {
      "needs_background": "light"
     },
     "output_type": "display_data"
    }
   ],
   "source": [
    "limit=50; start=2; step=1;\n",
    "x = range(start, limit, step)\n",
    "plt.plot(x, coherence_values)\n",
    "plt.xlabel(\"Number of Topics\")\n",
    "plt.ylabel(\"Coherence score\")\n",
    "plt.legend((\"coherence_values\"), loc='best')\n",
    "plt.show()# Print the coherence scores"
   ]
  },
  {
   "cell_type": "code",
   "execution_count": 51,
   "id": "3db08b6e",
   "metadata": {},
   "outputs": [
    {
     "data": {
      "text/plain": [
       "[0.3966409600352384,\n",
       " 0.43766223078430766,\n",
       " 0.42109196637763663,\n",
       " 0.46051291987475046,\n",
       " 0.4927906546298251,\n",
       " 0.4725979491096692,\n",
       " 0.502917124230719,\n",
       " 0.44000950628192875,\n",
       " 0.4824054083700634,\n",
       " 0.47766685210081,\n",
       " 0.5065966223944111]"
      ]
     },
     "execution_count": 51,
     "metadata": {},
     "output_type": "execute_result"
    }
   ],
   "source": [
    "coherence_values[:11]"
   ]
  },
  {
   "cell_type": "code",
   "execution_count": 52,
   "id": "bab099ec",
   "metadata": {},
   "outputs": [],
   "source": [
    "#for m, cv in zip(x, coherence_values):\n",
    "#    print(\"Num Topics =\", m, \" has Coherence Value of\", round(cv, 4))"
   ]
  },
  {
   "cell_type": "code",
   "execution_count": null,
   "id": "ca227262",
   "metadata": {},
   "outputs": [],
   "source": []
  },
  {
   "cell_type": "markdown",
   "id": "cbc83a90",
   "metadata": {},
   "source": [
    "## Latent Semantic Analysis-LSA"
   ]
  },
  {
   "cell_type": "code",
   "execution_count": 53,
   "id": "a90af39e",
   "metadata": {},
   "outputs": [],
   "source": [
    "indexing=df[df['video_id']=='XpVt6Z1Gjjo']"
   ]
  },
  {
   "cell_type": "code",
   "execution_count": 54,
   "id": "1cd21114",
   "metadata": {},
   "outputs": [
    {
     "data": {
      "text/html": [
       "<div>\n",
       "<style scoped>\n",
       "    .dataframe tbody tr th:only-of-type {\n",
       "        vertical-align: middle;\n",
       "    }\n",
       "\n",
       "    .dataframe tbody tr th {\n",
       "        vertical-align: top;\n",
       "    }\n",
       "\n",
       "    .dataframe thead th {\n",
       "        text-align: right;\n",
       "    }\n",
       "</style>\n",
       "<table border=\"1\" class=\"dataframe\">\n",
       "  <thead>\n",
       "    <tr style=\"text-align: right;\">\n",
       "      <th></th>\n",
       "      <th>video_id</th>\n",
       "      <th>comment_text</th>\n",
       "      <th>likes</th>\n",
       "      <th>replies</th>\n",
       "    </tr>\n",
       "  </thead>\n",
       "  <tbody>\n",
       "    <tr>\n",
       "      <th>0</th>\n",
       "      <td>XpVt6Z1Gjjo</td>\n",
       "      <td>Logan Paul it's yo big day ‼️‼️‼️</td>\n",
       "      <td>4</td>\n",
       "      <td>0</td>\n",
       "    </tr>\n",
       "    <tr>\n",
       "      <th>1</th>\n",
       "      <td>XpVt6Z1Gjjo</td>\n",
       "      <td>I've been following you from the start of your...</td>\n",
       "      <td>3</td>\n",
       "      <td>0</td>\n",
       "    </tr>\n",
       "    <tr>\n",
       "      <th>2</th>\n",
       "      <td>XpVt6Z1Gjjo</td>\n",
       "      <td>Say hi to Kong and maverick for me</td>\n",
       "      <td>3</td>\n",
       "      <td>0</td>\n",
       "    </tr>\n",
       "    <tr>\n",
       "      <th>3</th>\n",
       "      <td>XpVt6Z1Gjjo</td>\n",
       "      <td>MY FAN . attendance</td>\n",
       "      <td>3</td>\n",
       "      <td>0</td>\n",
       "    </tr>\n",
       "    <tr>\n",
       "      <th>4</th>\n",
       "      <td>XpVt6Z1Gjjo</td>\n",
       "      <td>trending 😉</td>\n",
       "      <td>3</td>\n",
       "      <td>0</td>\n",
       "    </tr>\n",
       "    <tr>\n",
       "      <th>5</th>\n",
       "      <td>XpVt6Z1Gjjo</td>\n",
       "      <td>#1 on trending AYYEEEEE</td>\n",
       "      <td>3</td>\n",
       "      <td>0</td>\n",
       "    </tr>\n",
       "    <tr>\n",
       "      <th>6</th>\n",
       "      <td>XpVt6Z1Gjjo</td>\n",
       "      <td>The end though 😭👍🏻❤️</td>\n",
       "      <td>4</td>\n",
       "      <td>0</td>\n",
       "    </tr>\n",
       "    <tr>\n",
       "      <th>7</th>\n",
       "      <td>XpVt6Z1Gjjo</td>\n",
       "      <td>#1 trending!!!!!!!!!</td>\n",
       "      <td>3</td>\n",
       "      <td>0</td>\n",
       "    </tr>\n",
       "    <tr>\n",
       "      <th>8</th>\n",
       "      <td>XpVt6Z1Gjjo</td>\n",
       "      <td>Happy one year vlogaversary</td>\n",
       "      <td>3</td>\n",
       "      <td>0</td>\n",
       "    </tr>\n",
       "    <tr>\n",
       "      <th>9</th>\n",
       "      <td>XpVt6Z1Gjjo</td>\n",
       "      <td>You and your shit brother may have single hand...</td>\n",
       "      <td>0</td>\n",
       "      <td>0</td>\n",
       "    </tr>\n",
       "  </tbody>\n",
       "</table>\n",
       "</div>"
      ],
      "text/plain": [
       "      video_id                                       comment_text likes  \\\n",
       "0  XpVt6Z1Gjjo                  Logan Paul it's yo big day ‼️‼️‼️     4   \n",
       "1  XpVt6Z1Gjjo  I've been following you from the start of your...     3   \n",
       "2  XpVt6Z1Gjjo                 Say hi to Kong and maverick for me     3   \n",
       "3  XpVt6Z1Gjjo                                MY FAN . attendance     3   \n",
       "4  XpVt6Z1Gjjo                                         trending 😉     3   \n",
       "5  XpVt6Z1Gjjo                            #1 on trending AYYEEEEE     3   \n",
       "6  XpVt6Z1Gjjo                               The end though 😭👍🏻❤️     4   \n",
       "7  XpVt6Z1Gjjo                               #1 trending!!!!!!!!!     3   \n",
       "8  XpVt6Z1Gjjo                        Happy one year vlogaversary     3   \n",
       "9  XpVt6Z1Gjjo  You and your shit brother may have single hand...     0   \n",
       "\n",
       "  replies  \n",
       "0       0  \n",
       "1       0  \n",
       "2       0  \n",
       "3       0  \n",
       "4       0  \n",
       "5       0  \n",
       "6       0  \n",
       "7       0  \n",
       "8       0  \n",
       "9       0  "
      ]
     },
     "execution_count": 54,
     "metadata": {},
     "output_type": "execute_result"
    }
   ],
   "source": [
    "indexing.head(10)"
   ]
  },
  {
   "cell_type": "code",
   "execution_count": 55,
   "id": "51220703",
   "metadata": {},
   "outputs": [
    {
     "name": "stderr",
     "output_type": "stream",
     "text": [
      "C:\\Users\\tette\\AppData\\Local\\Temp/ipykernel_2076/1991177756.py:17: SettingWithCopyWarning: \n",
      "A value is trying to be set on a copy of a slice from a DataFrame.\n",
      "Try using .loc[row_indexer,col_indexer] = value instead\n",
      "\n",
      "See the caveats in the documentation: https://pandas.pydata.org/pandas-docs/stable/user_guide/indexing.html#returning-a-view-versus-a-copy\n",
      "  indexing['Clean'] = indexing['comment_text'].apply(lambda x: preprocess(x))\n"
     ]
    }
   ],
   "source": [
    "from gensim.parsing.preprocessing import remove_stopwords, strip_punctuation \\\n",
    "                                        , preprocess_string, strip_short, stem_text\n",
    "# preprocess given text\n",
    "def preprocess(text):\n",
    "    \n",
    "    # clean text based on given filters\n",
    "    CUSTOM_FILTERS = [lambda x: x.lower(), \n",
    "                                remove_stopwords, \n",
    "                                strip_punctuation, \n",
    "                                strip_short, \n",
    "                                stem_text]\n",
    "    text = preprocess_string(text, CUSTOM_FILTERS)\n",
    "    text=[ele for ele in text if ele != []]\n",
    "    return text\n",
    "\n",
    "# apply function to all reviews \n",
    "indexing['Clean'] = indexing['comment_text'].apply(lambda x: preprocess(x))"
   ]
  },
  {
   "cell_type": "code",
   "execution_count": 56,
   "id": "29a47217",
   "metadata": {},
   "outputs": [
    {
     "data": {
      "text/html": [
       "<div>\n",
       "<style scoped>\n",
       "    .dataframe tbody tr th:only-of-type {\n",
       "        vertical-align: middle;\n",
       "    }\n",
       "\n",
       "    .dataframe tbody tr th {\n",
       "        vertical-align: top;\n",
       "    }\n",
       "\n",
       "    .dataframe thead th {\n",
       "        text-align: right;\n",
       "    }\n",
       "</style>\n",
       "<table border=\"1\" class=\"dataframe\">\n",
       "  <thead>\n",
       "    <tr style=\"text-align: right;\">\n",
       "      <th></th>\n",
       "      <th>video_id</th>\n",
       "      <th>comment_text</th>\n",
       "      <th>likes</th>\n",
       "      <th>replies</th>\n",
       "      <th>Clean</th>\n",
       "    </tr>\n",
       "  </thead>\n",
       "  <tbody>\n",
       "    <tr>\n",
       "      <th>20</th>\n",
       "      <td>XpVt6Z1Gjjo</td>\n",
       "      <td>NO HONEY NOOO can't believe he has almost 12 m...</td>\n",
       "      <td>0</td>\n",
       "      <td>0</td>\n",
       "      <td>[honei, nooo, can, believ, mili, year, damnn]</td>\n",
       "    </tr>\n",
       "    <tr>\n",
       "      <th>21</th>\n",
       "      <td>XpVt6Z1Gjjo</td>\n",
       "      <td>Jake Paul is the fastest growing channel to hi...</td>\n",
       "      <td>1</td>\n",
       "      <td>0</td>\n",
       "      <td>[jake, paul, fastest, grow, channel, hit, mill...</td>\n",
       "    </tr>\n",
       "    <tr>\n",
       "      <th>22</th>\n",
       "      <td>XpVt6Z1Gjjo</td>\n",
       "      <td>lol PEWDIEPIE accidentally played song with wo...</td>\n",
       "      <td>0</td>\n",
       "      <td>0</td>\n",
       "      <td>[lol, pewdiepi, accident, plai, song, word, ni...</td>\n",
       "    </tr>\n",
       "    <tr>\n",
       "      <th>23</th>\n",
       "      <td>XpVt6Z1Gjjo</td>\n",
       "      <td>You should do a prank that you broke  your pla...</td>\n",
       "      <td>0</td>\n",
       "      <td>0</td>\n",
       "      <td>[prank, broke, plai, puttun]</td>\n",
       "    </tr>\n",
       "    <tr>\n",
       "      <th>24</th>\n",
       "      <td>XpVt6Z1Gjjo</td>\n",
       "      <td>I love Logan and Jake so much and thay are so ...</td>\n",
       "      <td>1</td>\n",
       "      <td>0</td>\n",
       "      <td>[love, logan, jake, thai, amaz, look, 😍💋💙👍]</td>\n",
       "    </tr>\n",
       "    <tr>\n",
       "      <th>25</th>\n",
       "      <td>XpVt6Z1Gjjo</td>\n",
       "      <td>#1 on Trending let's go.</td>\n",
       "      <td>0</td>\n",
       "      <td>0</td>\n",
       "      <td>[trend, let]</td>\n",
       "    </tr>\n",
       "    <tr>\n",
       "      <th>26</th>\n",
       "      <td>XpVt6Z1Gjjo</td>\n",
       "      <td>Evan was being such a dick on this vlog</td>\n",
       "      <td>0</td>\n",
       "      <td>0</td>\n",
       "      <td>[evan, dick, vlog]</td>\n",
       "    </tr>\n",
       "    <tr>\n",
       "      <th>27</th>\n",
       "      <td>XpVt6Z1Gjjo</td>\n",
       "      <td>if you get allot of diss likes do you get on t...</td>\n",
       "      <td>0</td>\n",
       "      <td>0</td>\n",
       "      <td>[allot, diss, like, comment, let, diss, like]</td>\n",
       "    </tr>\n",
       "    <tr>\n",
       "      <th>28</th>\n",
       "      <td>XpVt6Z1Gjjo</td>\n",
       "      <td>Evan is a horrible human being he also looks s...</td>\n",
       "      <td>0</td>\n",
       "      <td>0</td>\n",
       "      <td>[evan, horribl, human, look, jealou, open, lik...</td>\n",
       "    </tr>\n",
       "    <tr>\n",
       "      <th>29</th>\n",
       "      <td>XpVt6Z1Gjjo</td>\n",
       "      <td>I love you so much I love to meet you But I li...</td>\n",
       "      <td>0</td>\n",
       "      <td>0</td>\n",
       "      <td>[love, love, meet, live, israel, inspir, like,...</td>\n",
       "    </tr>\n",
       "  </tbody>\n",
       "</table>\n",
       "</div>"
      ],
      "text/plain": [
       "       video_id                                       comment_text likes  \\\n",
       "20  XpVt6Z1Gjjo  NO HONEY NOOO can't believe he has almost 12 m...     0   \n",
       "21  XpVt6Z1Gjjo  Jake Paul is the fastest growing channel to hi...     1   \n",
       "22  XpVt6Z1Gjjo  lol PEWDIEPIE accidentally played song with wo...     0   \n",
       "23  XpVt6Z1Gjjo  You should do a prank that you broke  your pla...     0   \n",
       "24  XpVt6Z1Gjjo  I love Logan and Jake so much and thay are so ...     1   \n",
       "25  XpVt6Z1Gjjo                           #1 on Trending let's go.     0   \n",
       "26  XpVt6Z1Gjjo            Evan was being such a dick on this vlog     0   \n",
       "27  XpVt6Z1Gjjo  if you get allot of diss likes do you get on t...     0   \n",
       "28  XpVt6Z1Gjjo  Evan is a horrible human being he also looks s...     0   \n",
       "29  XpVt6Z1Gjjo  I love you so much I love to meet you But I li...     0   \n",
       "\n",
       "   replies                                              Clean  \n",
       "20       0      [honei, nooo, can, believ, mili, year, damnn]  \n",
       "21       0  [jake, paul, fastest, grow, channel, hit, mill...  \n",
       "22       0  [lol, pewdiepi, accident, plai, song, word, ni...  \n",
       "23       0                       [prank, broke, plai, puttun]  \n",
       "24       0        [love, logan, jake, thai, amaz, look, 😍💋💙👍]  \n",
       "25       0                                       [trend, let]  \n",
       "26       0                                 [evan, dick, vlog]  \n",
       "27       0      [allot, diss, like, comment, let, diss, like]  \n",
       "28       0  [evan, horribl, human, look, jealou, open, lik...  \n",
       "29       0  [love, love, meet, live, israel, inspir, like,...  "
      ]
     },
     "execution_count": 56,
     "metadata": {},
     "output_type": "execute_result"
    }
   ],
   "source": [
    "indexing.iloc[20:30]"
   ]
  },
  {
   "cell_type": "code",
   "execution_count": 57,
   "id": "d3eeb3f4",
   "metadata": {},
   "outputs": [
    {
     "data": {
      "text/plain": [
       "(800, 5)"
      ]
     },
     "execution_count": 57,
     "metadata": {},
     "output_type": "execute_result"
    }
   ],
   "source": [
    "indexing.shape"
   ]
  },
  {
   "cell_type": "code",
   "execution_count": 58,
   "id": "3ea921c9",
   "metadata": {},
   "outputs": [],
   "source": [
    "df1 = indexing[indexing['Clean'].map(len) > 0]"
   ]
  },
  {
   "cell_type": "code",
   "execution_count": 59,
   "id": "8bdb2f7e",
   "metadata": {},
   "outputs": [
    {
     "data": {
      "text/plain": [
       "(787, 5)"
      ]
     },
     "execution_count": 59,
     "metadata": {},
     "output_type": "execute_result"
    }
   ],
   "source": [
    "df1.shape"
   ]
  },
  {
   "cell_type": "code",
   "execution_count": 60,
   "id": "1e295a58",
   "metadata": {},
   "outputs": [
    {
     "data": {
      "text/html": [
       "<div>\n",
       "<style scoped>\n",
       "    .dataframe tbody tr th:only-of-type {\n",
       "        vertical-align: middle;\n",
       "    }\n",
       "\n",
       "    .dataframe tbody tr th {\n",
       "        vertical-align: top;\n",
       "    }\n",
       "\n",
       "    .dataframe thead th {\n",
       "        text-align: right;\n",
       "    }\n",
       "</style>\n",
       "<table border=\"1\" class=\"dataframe\">\n",
       "  <thead>\n",
       "    <tr style=\"text-align: right;\">\n",
       "      <th></th>\n",
       "      <th>video_id</th>\n",
       "      <th>comment_text</th>\n",
       "      <th>likes</th>\n",
       "      <th>replies</th>\n",
       "      <th>Clean</th>\n",
       "    </tr>\n",
       "  </thead>\n",
       "  <tbody>\n",
       "    <tr>\n",
       "      <th>0</th>\n",
       "      <td>XpVt6Z1Gjjo</td>\n",
       "      <td>Logan Paul it's yo big day ‼️‼️‼️</td>\n",
       "      <td>4</td>\n",
       "      <td>0</td>\n",
       "      <td>[logan, paul, big, dai, ‼️‼️‼️]</td>\n",
       "    </tr>\n",
       "    <tr>\n",
       "      <th>1</th>\n",
       "      <td>XpVt6Z1Gjjo</td>\n",
       "      <td>I've been following you from the start of your...</td>\n",
       "      <td>3</td>\n",
       "      <td>0</td>\n",
       "      <td>[follow, start, vine, channel, seen, 365, vlog]</td>\n",
       "    </tr>\n",
       "    <tr>\n",
       "      <th>2</th>\n",
       "      <td>XpVt6Z1Gjjo</td>\n",
       "      <td>Say hi to Kong and maverick for me</td>\n",
       "      <td>3</td>\n",
       "      <td>0</td>\n",
       "      <td>[kong, maverick]</td>\n",
       "    </tr>\n",
       "    <tr>\n",
       "      <th>3</th>\n",
       "      <td>XpVt6Z1Gjjo</td>\n",
       "      <td>MY FAN . attendance</td>\n",
       "      <td>3</td>\n",
       "      <td>0</td>\n",
       "      <td>[fan, attend]</td>\n",
       "    </tr>\n",
       "    <tr>\n",
       "      <th>4</th>\n",
       "      <td>XpVt6Z1Gjjo</td>\n",
       "      <td>trending 😉</td>\n",
       "      <td>3</td>\n",
       "      <td>0</td>\n",
       "      <td>[trend]</td>\n",
       "    </tr>\n",
       "    <tr>\n",
       "      <th>5</th>\n",
       "      <td>XpVt6Z1Gjjo</td>\n",
       "      <td>#1 on trending AYYEEEEE</td>\n",
       "      <td>3</td>\n",
       "      <td>0</td>\n",
       "      <td>[trend, ayyeeee]</td>\n",
       "    </tr>\n",
       "    <tr>\n",
       "      <th>6</th>\n",
       "      <td>XpVt6Z1Gjjo</td>\n",
       "      <td>The end though 😭👍🏻❤️</td>\n",
       "      <td>4</td>\n",
       "      <td>0</td>\n",
       "      <td>[end, 😭👍🏻❤️]</td>\n",
       "    </tr>\n",
       "    <tr>\n",
       "      <th>7</th>\n",
       "      <td>XpVt6Z1Gjjo</td>\n",
       "      <td>#1 trending!!!!!!!!!</td>\n",
       "      <td>3</td>\n",
       "      <td>0</td>\n",
       "      <td>[trend]</td>\n",
       "    </tr>\n",
       "    <tr>\n",
       "      <th>8</th>\n",
       "      <td>XpVt6Z1Gjjo</td>\n",
       "      <td>Happy one year vlogaversary</td>\n",
       "      <td>3</td>\n",
       "      <td>0</td>\n",
       "      <td>[happi, year, vlogaversari]</td>\n",
       "    </tr>\n",
       "    <tr>\n",
       "      <th>9</th>\n",
       "      <td>XpVt6Z1Gjjo</td>\n",
       "      <td>You and your shit brother may have single hand...</td>\n",
       "      <td>0</td>\n",
       "      <td>0</td>\n",
       "      <td>[shit, brother, singl, handedli, ruin, youtub,...</td>\n",
       "    </tr>\n",
       "  </tbody>\n",
       "</table>\n",
       "</div>"
      ],
      "text/plain": [
       "      video_id                                       comment_text likes  \\\n",
       "0  XpVt6Z1Gjjo                  Logan Paul it's yo big day ‼️‼️‼️     4   \n",
       "1  XpVt6Z1Gjjo  I've been following you from the start of your...     3   \n",
       "2  XpVt6Z1Gjjo                 Say hi to Kong and maverick for me     3   \n",
       "3  XpVt6Z1Gjjo                                MY FAN . attendance     3   \n",
       "4  XpVt6Z1Gjjo                                         trending 😉     3   \n",
       "5  XpVt6Z1Gjjo                            #1 on trending AYYEEEEE     3   \n",
       "6  XpVt6Z1Gjjo                               The end though 😭👍🏻❤️     4   \n",
       "7  XpVt6Z1Gjjo                               #1 trending!!!!!!!!!     3   \n",
       "8  XpVt6Z1Gjjo                        Happy one year vlogaversary     3   \n",
       "9  XpVt6Z1Gjjo  You and your shit brother may have single hand...     0   \n",
       "\n",
       "  replies                                              Clean  \n",
       "0       0                    [logan, paul, big, dai, ‼️‼️‼️]  \n",
       "1       0    [follow, start, vine, channel, seen, 365, vlog]  \n",
       "2       0                                   [kong, maverick]  \n",
       "3       0                                      [fan, attend]  \n",
       "4       0                                            [trend]  \n",
       "5       0                                   [trend, ayyeeee]  \n",
       "6       0                                       [end, 😭👍🏻❤️]  \n",
       "7       0                                            [trend]  \n",
       "8       0                        [happi, year, vlogaversari]  \n",
       "9       0  [shit, brother, singl, handedli, ruin, youtub,...  "
      ]
     },
     "execution_count": 60,
     "metadata": {},
     "output_type": "execute_result"
    }
   ],
   "source": [
    "df1.head(10)"
   ]
  },
  {
   "cell_type": "code",
   "execution_count": 61,
   "id": "e80f9628",
   "metadata": {},
   "outputs": [],
   "source": [
    "from gensim import corpora\n",
    "\n",
    "# create a dictionary with the corpus\n",
    "corpus = df1['Clean']\n",
    "dictionary = corpora.Dictionary(corpus)\n",
    "\n",
    "# convert corpus into a bag of words\n",
    "bow = [dictionary.doc2bow(text) for text in corpus]"
   ]
  },
  {
   "cell_type": "code",
   "execution_count": 62,
   "id": "8559c8a9",
   "metadata": {},
   "outputs": [],
   "source": [
    "#tokenized_comments = [ele for ele in tokenized_comments if ele != []]"
   ]
  },
  {
   "cell_type": "code",
   "execution_count": 63,
   "id": "1a477f41",
   "metadata": {},
   "outputs": [
    {
     "name": "stdout",
     "output_type": "stream",
     "text": [
      "Coherence: [0.6352514746518533, 0.44147233256546253, 0.5235281918791193, 0.4277464714336682, 0.3675528788825224, 0.4046905447497145, 0.3845600561691302, 0.36025883836712996, 0.4420265128600508]\n"
     ]
    }
   ],
   "source": [
    "from gensim.models import LsiModel\n",
    "from gensim.models.coherencemodel import CoherenceModel\n",
    "\n",
    "coherence_ = []\n",
    "lsi_list = []\n",
    "\n",
    "# find the coherence score with a different number of topics\n",
    "for i in range(2,11):\n",
    "    lsi = LsiModel(bow, num_topics=i, id2word=dictionary)\n",
    "    lsi_list.append(lsi)\n",
    "    coherence_model = CoherenceModel(model=lsi, texts=df1['Clean'], dictionary=dictionary, coherence='c_v')\n",
    "    #coherence_ = coherence_model.get_coherence()\n",
    "    coherence_.append(coherence_model.get_coherence())\n",
    "print('Coherence:', coherence_)\n",
    "    "
   ]
  },
  {
   "cell_type": "code",
   "execution_count": 64,
   "id": "d5ee3ae8",
   "metadata": {},
   "outputs": [
    {
     "data": {
      "text/plain": [
       "9"
      ]
     },
     "execution_count": 64,
     "metadata": {},
     "output_type": "execute_result"
    }
   ],
   "source": [
    "len(coherence_)"
   ]
  },
  {
   "cell_type": "code",
   "execution_count": 65,
   "id": "172004ec",
   "metadata": {},
   "outputs": [
    {
     "name": "stdout",
     "output_type": "stream",
     "text": [
      "0.4430097001731834\n"
     ]
    }
   ],
   "source": [
    "sum=0\n",
    "for i in coherence_:\n",
    "    sum=sum+i\n",
    "print(sum/len(coherence_))"
   ]
  },
  {
   "cell_type": "code",
   "execution_count": 66,
   "id": "97f51bcf",
   "metadata": {},
   "outputs": [
    {
     "data": {
      "text/plain": [
       "[0.3966409600352384,\n",
       " 0.43766223078430766,\n",
       " 0.42109196637763663,\n",
       " 0.46051291987475046,\n",
       " 0.4927906546298251,\n",
       " 0.4725979491096692,\n",
       " 0.502917124230719,\n",
       " 0.44000950628192875,\n",
       " 0.4824054083700634]"
      ]
     },
     "execution_count": 66,
     "metadata": {},
     "output_type": "execute_result"
    }
   ],
   "source": [
    "coherence_values[:9]"
   ]
  },
  {
   "cell_type": "code",
   "execution_count": 67,
   "id": "8069fe89",
   "metadata": {},
   "outputs": [],
   "source": [
    "coherence_1=coherence_values[:9]"
   ]
  },
  {
   "cell_type": "code",
   "execution_count": 68,
   "id": "868c68ff",
   "metadata": {},
   "outputs": [
    {
     "name": "stdout",
     "output_type": "stream",
     "text": [
      "0.4562920799660153\n"
     ]
    }
   ],
   "source": [
    "sum1=0\n",
    "for i in coherence_1:\n",
    "    sum1+=i\n",
    "print(sum1/len(coherence_1))"
   ]
  },
  {
   "cell_type": "code",
   "execution_count": null,
   "id": "5665e817",
   "metadata": {},
   "outputs": [],
   "source": []
  }
 ],
 "metadata": {
  "kernelspec": {
   "display_name": "Python 3 (ipykernel)",
   "language": "python",
   "name": "python3"
  },
  "language_info": {
   "codemirror_mode": {
    "name": "ipython",
    "version": 3
   },
   "file_extension": ".py",
   "mimetype": "text/x-python",
   "name": "python",
   "nbconvert_exporter": "python",
   "pygments_lexer": "ipython3",
   "version": "3.9.7"
  }
 },
 "nbformat": 4,
 "nbformat_minor": 5
}
